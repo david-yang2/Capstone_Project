{
 "cells": [
  {
   "cell_type": "code",
   "execution_count": 29,
   "metadata": {},
   "outputs": [],
   "source": [
    "from new_stations import *\n",
    "from time_series_model import *\n",
    "import statsmodels.api as sm\n",
    "import pandas as pd\n",
    "import matplotlib.pyplot as plt\n",
    "%matplotlib inline\n",
    "\n",
    "import statsmodels.api as sm\n",
    "from statsmodels.tsa.arima_model import ARIMA, ARIMAResults\n",
    "from statsmodels.tsa.arima_process import ArmaProcess\n",
    "from statsmodels.stats.diagnostic import acorr_ljungbox\n",
    "from sklearn.metrics import mean_squared_error\n",
    "from statsmodels.tsa.stattools import acf, pacf\n",
    "from scipy import signal\n",
    "from scipy import stats\n",
    "\n",
    "\n",
    "\n",
    "\n",
    "\n",
    "\n"
   ]
  },
  {
   "cell_type": "code",
   "execution_count": 30,
   "metadata": {},
   "outputs": [
    {
     "name": "stderr",
     "output_type": "stream",
     "text": [
      "/anaconda3/lib/python3.6/site-packages/IPython/core/interactiveshell.py:3185: DtypeWarning: Columns (16) have mixed types. Specify dtype option on import or set low_memory=False.\n",
      "  if (yield from self.run_code(code, result)):\n"
     ]
    }
   ],
   "source": [
    "data, weather = load_data()"
   ]
  },
  {
   "cell_type": "code",
   "execution_count": null,
   "metadata": {},
   "outputs": [],
   "source": []
  },
  {
   "cell_type": "code",
   "execution_count": null,
   "metadata": {},
   "outputs": [],
   "source": []
  },
  {
   "cell_type": "code",
   "execution_count": 31,
   "metadata": {},
   "outputs": [],
   "source": [
    "data = feature_addition(data)"
   ]
  },
  {
   "cell_type": "code",
   "execution_count": 32,
   "metadata": {},
   "outputs": [],
   "source": [
    "sf = model_city(data,1)"
   ]
  },
  {
   "cell_type": "code",
   "execution_count": null,
   "metadata": {},
   "outputs": [],
   "source": []
  },
  {
   "cell_type": "code",
   "execution_count": null,
   "metadata": {},
   "outputs": [],
   "source": []
  },
  {
   "cell_type": "code",
   "execution_count": 33,
   "metadata": {},
   "outputs": [],
   "source": [
    "#cdf = current month df\n",
    "#ndf = next month df\n",
    "cdf, ndf = month_sep(sf, 2018, 4)"
   ]
  },
  {
   "cell_type": "code",
   "execution_count": 34,
   "metadata": {},
   "outputs": [],
   "source": [
    "#proposed stations\n",
    "ps = new_stn_coords(cdf, ndf)"
   ]
  },
  {
   "cell_type": "code",
   "execution_count": 35,
   "metadata": {},
   "outputs": [
    {
     "data": {
      "text/plain": [
       "[155.0, 148.0, 163.0]"
      ]
     },
     "execution_count": 35,
     "metadata": {},
     "output_type": "execute_result"
    }
   ],
   "source": [
    "ps"
   ]
  },
  {
   "cell_type": "code",
   "execution_count": 36,
   "metadata": {},
   "outputs": [],
   "source": [
    "df1 = cdf"
   ]
  },
  {
   "cell_type": "code",
   "execution_count": 37,
   "metadata": {},
   "outputs": [],
   "source": [
    "df2 = ndf"
   ]
  },
  {
   "cell_type": "code",
   "execution_count": 38,
   "metadata": {},
   "outputs": [
    {
     "name": "stderr",
     "output_type": "stream",
     "text": [
      "/Users/michellehoang/galvanize/Capstone_Project/time_series_model.py:17: SettingWithCopyWarning: \n",
      "A value is trying to be set on a copy of a slice from a DataFrame.\n",
      "Try using .loc[row_indexer,col_indexer] = value instead\n",
      "\n",
      "See the caveats in the documentation: http://pandas.pydata.org/pandas-docs/stable/indexing.html#indexing-view-versus-copy\n",
      "  tsdf['days'] = 1\n",
      "/Users/michellehoang/galvanize/Capstone_Project/time_series_model.py:32: SettingWithCopyWarning: \n",
      "A value is trying to be set on a copy of a slice from a DataFrame\n",
      "\n",
      "See the caveats in the documentation: http://pandas.pydata.org/pandas-docs/stable/indexing.html#indexing-view-versus-copy\n",
      "  tsdf['days'][tsdf.month == mon] = tsdf.day * mult\n",
      "/anaconda3/lib/python3.6/site-packages/pandas/core/generic.py:8672: SettingWithCopyWarning: \n",
      "A value is trying to be set on a copy of a slice from a DataFrame\n",
      "\n",
      "See the caveats in the documentation: http://pandas.pydata.org/pandas-docs/stable/indexing.html#indexing-view-versus-copy\n",
      "  self._update_inplace(new_data)\n",
      "/anaconda3/lib/python3.6/site-packages/ipykernel_launcher.py:1: SettingWithCopyWarning: \n",
      "A value is trying to be set on a copy of a slice from a DataFrame\n",
      "\n",
      "See the caveats in the documentation: http://pandas.pydata.org/pandas-docs/stable/indexing.html#indexing-view-versus-copy\n",
      "  \"\"\"Entry point for launching an IPython kernel.\n"
     ]
    }
   ],
   "source": [
    "qtr = days_for_ts(sf, cdf,3)"
   ]
  },
  {
   "cell_type": "code",
   "execution_count": null,
   "metadata": {},
   "outputs": [],
   "source": []
  },
  {
   "cell_type": "code",
   "execution_count": null,
   "metadata": {},
   "outputs": [],
   "source": []
  },
  {
   "cell_type": "code",
   "execution_count": null,
   "metadata": {},
   "outputs": [],
   "source": []
  },
  {
   "cell_type": "code",
   "execution_count": null,
   "metadata": {},
   "outputs": [],
   "source": []
  },
  {
   "cell_type": "code",
   "execution_count": null,
   "metadata": {},
   "outputs": [],
   "source": []
  },
  {
   "cell_type": "code",
   "execution_count": null,
   "metadata": {},
   "outputs": [],
   "source": []
  },
  {
   "cell_type": "code",
   "execution_count": null,
   "metadata": {},
   "outputs": [],
   "source": []
  },
  {
   "cell_type": "code",
   "execution_count": null,
   "metadata": {},
   "outputs": [],
   "source": []
  },
  {
   "cell_type": "code",
   "execution_count": null,
   "metadata": {},
   "outputs": [],
   "source": []
  },
  {
   "cell_type": "code",
   "execution_count": null,
   "metadata": {},
   "outputs": [],
   "source": []
  },
  {
   "cell_type": "code",
   "execution_count": null,
   "metadata": {},
   "outputs": [],
   "source": []
  },
  {
   "cell_type": "code",
   "execution_count": null,
   "metadata": {},
   "outputs": [],
   "source": []
  },
  {
   "cell_type": "code",
   "execution_count": null,
   "metadata": {},
   "outputs": [],
   "source": []
  },
  {
   "cell_type": "code",
   "execution_count": 39,
   "metadata": {},
   "outputs": [],
   "source": [
    "#neighbors for each proposed location\n",
    "#id and coordinate combo for each station\n",
    "neighbors, id_coord= knn_proposed_stn(cdf, ndf, ps)"
   ]
  },
  {
   "cell_type": "code",
   "execution_count": 40,
   "metadata": {},
   "outputs": [
    {
     "data": {
      "text/plain": [
       "{155: [231, 7, 239], 148: [231, 7, 239], 163: [231, 230, 239]}"
      ]
     },
     "execution_count": 40,
     "metadata": {},
     "output_type": "execute_result"
    }
   ],
   "source": [
    "neighbors"
   ]
  },
  {
   "cell_type": "code",
   "execution_count": null,
   "metadata": {},
   "outputs": [],
   "source": []
  },
  {
   "cell_type": "code",
   "execution_count": 41,
   "metadata": {},
   "outputs": [],
   "source": [
    "# t = 230\n",
    "# print(\"The origin station is {}.\".format(t))\n",
    "# print(\"The 3 closest neighbors are: {}, {}, {}\".format(int(neighbors.get(t)[0]),int(neighbors.get(t)[1]),int(neighbors.get(t)[2])))\n",
    "# plt.figure(figsize = (10,10))\n",
    "# ll,rr = -122.50, -122.36\n",
    "# bb = 37.73\n",
    "# plt.xlim(ll,rr)\n",
    "# plt.ylim(bb, bb+(rr-ll))\n",
    "# plt.xlabel(\"Longitude\")\n",
    "# plt.ylabel(\"Latitude\")\n",
    "# plt.title(\"Map of Ford GoBike stations in San Francisco\")\n",
    "# plt.scatter(qtr.end_station_longitude, qtr.end_station_latitude, s=1, c=('r'))\n",
    "# plt.scatter(id_coord.get(t)[0], id_coord.get(t)[1], s=20, marker='x', c=('b'))\n",
    "\n",
    "# for st in neighbors.get(t):\n",
    "#     plt.scatter(id_coord.get(st)[0],id_coord.get(st)[1], s= 10, c='g')\n",
    "# plt.show()\n",
    "\n"
   ]
  },
  {
   "cell_type": "code",
   "execution_count": null,
   "metadata": {},
   "outputs": [],
   "source": []
  },
  {
   "cell_type": "code",
   "execution_count": null,
   "metadata": {},
   "outputs": [],
   "source": []
  },
  {
   "cell_type": "code",
   "execution_count": null,
   "metadata": {},
   "outputs": [],
   "source": []
  },
  {
   "cell_type": "code",
   "execution_count": null,
   "metadata": {},
   "outputs": [],
   "source": []
  },
  {
   "cell_type": "code",
   "execution_count": null,
   "metadata": {},
   "outputs": [],
   "source": []
  },
  {
   "cell_type": "code",
   "execution_count": null,
   "metadata": {},
   "outputs": [],
   "source": []
  },
  {
   "cell_type": "code",
   "execution_count": null,
   "metadata": {},
   "outputs": [],
   "source": []
  },
  {
   "cell_type": "code",
   "execution_count": null,
   "metadata": {},
   "outputs": [],
   "source": []
  },
  {
   "cell_type": "code",
   "execution_count": null,
   "metadata": {},
   "outputs": [],
   "source": []
  },
  {
   "cell_type": "code",
   "execution_count": null,
   "metadata": {},
   "outputs": [],
   "source": []
  },
  {
   "cell_type": "code",
   "execution_count": null,
   "metadata": {},
   "outputs": [],
   "source": []
  },
  {
   "cell_type": "code",
   "execution_count": null,
   "metadata": {},
   "outputs": [],
   "source": []
  },
  {
   "cell_type": "code",
   "execution_count": null,
   "metadata": {},
   "outputs": [],
   "source": []
  },
  {
   "cell_type": "code",
   "execution_count": null,
   "metadata": {},
   "outputs": [],
   "source": []
  },
  {
   "cell_type": "code",
   "execution_count": 124,
   "metadata": {},
   "outputs": [],
   "source": [
    "ts = days_count(qtr, 4)"
   ]
  },
  {
   "cell_type": "code",
   "execution_count": 125,
   "metadata": {},
   "outputs": [],
   "source": [
    "tseries = pd.Series(ts[:,1])"
   ]
  },
  {
   "cell_type": "code",
   "execution_count": null,
   "metadata": {},
   "outputs": [],
   "source": []
  },
  {
   "cell_type": "code",
   "execution_count": 126,
   "metadata": {},
   "outputs": [
    {
     "name": "stdout",
     "output_type": "stream",
     "text": [
      "ADF p-value: 0.48\n"
     ]
    }
   ],
   "source": [
    "test = sm.tsa.stattools.adfuller(tseries)\n",
    "print(\"ADF p-value: {0:2.2f}\".format(test[1]))"
   ]
  },
  {
   "cell_type": "code",
   "execution_count": 127,
   "metadata": {},
   "outputs": [],
   "source": [
    "tseries_diffed = tseries.diff()[1:]"
   ]
  },
  {
   "cell_type": "code",
   "execution_count": 128,
   "metadata": {},
   "outputs": [
    {
     "data": {
      "text/plain": [
       "9.366704990120353e-05"
      ]
     },
     "execution_count": 128,
     "metadata": {},
     "output_type": "execute_result"
    }
   ],
   "source": [
    "sm.tsa.stattools.adfuller(tseries_diffed)[1]"
   ]
  },
  {
   "cell_type": "code",
   "execution_count": 129,
   "metadata": {},
   "outputs": [
    {
     "data": {
      "text/plain": [
       "False"
      ]
     },
     "execution_count": 129,
     "metadata": {},
     "output_type": "execute_result"
    }
   ],
   "source": [
    "sm.tsa.stattools.adfuller(tseries_diffed)[1]>0.05"
   ]
  },
  {
   "cell_type": "code",
   "execution_count": 130,
   "metadata": {},
   "outputs": [],
   "source": [
    "def stationary_convert(series, pvalue=0.05):\n",
    "    test = sm.tsa.stattools.adfuller(series)\n",
    "    if test[1] > pvalue:\n",
    "        tseries_diffed = tseries.diff()[1:]\n",
    "        return tseries_diffed\n",
    "    return series"
   ]
  },
  {
   "cell_type": "code",
   "execution_count": null,
   "metadata": {},
   "outputs": [],
   "source": []
  },
  {
   "cell_type": "code",
   "execution_count": null,
   "metadata": {},
   "outputs": [],
   "source": []
  },
  {
   "cell_type": "code",
   "execution_count": 131,
   "metadata": {},
   "outputs": [
    {
     "name": "stderr",
     "output_type": "stream",
     "text": [
      "/anaconda3/lib/python3.6/site-packages/ipykernel_launcher.py:1: FutureWarning: Method .as_matrix will be removed in a future version. Use .values instead.\n",
      "  \"\"\"Entry point for launching an IPython kernel.\n"
     ]
    },
    {
     "data": {
      "text/plain": [
       "array([10, 25, 19, 37, 11, 23,  6, 36, 16, 20, 12, 65, 17, 27, 20, 47, 17,\n",
       "       22, 10, 32, 30, 19, 16, 52, 18, 36, 31, 31, 15, 43, 18, 27, 13, 15,\n",
       "       38,  7, 11, 28, 25, 19, 10, 13, 33, 11,  9, 26, 20, 17,  8, 20, 12,\n",
       "        5, 13,  8, 15, 31,  6, 16, 17, 15, 21, 37, 14, 10, 18,  8, 14, 18,\n",
       "       17, 23, 13, 22, 10, 26])"
      ]
     },
     "execution_count": 131,
     "metadata": {},
     "output_type": "execute_result"
    }
   ],
   "source": [
    "trip_matrix = tseries.as_matrix()\n",
    "trip_matrix"
   ]
  },
  {
   "cell_type": "code",
   "execution_count": null,
   "metadata": {},
   "outputs": [],
   "source": []
  },
  {
   "cell_type": "code",
   "execution_count": 132,
   "metadata": {},
   "outputs": [],
   "source": [
    "trip_model = ARIMA(trip_matrix, order=(3, 1, 0)).fit()"
   ]
  },
  {
   "cell_type": "code",
   "execution_count": 133,
   "metadata": {},
   "outputs": [
    {
     "data": {
      "text/plain": [
       "array([13.72412107, 20.13992321, 14.22524071, 22.02764457, 14.8518136 ,\n",
       "       19.19415794, 15.93260204, 19.72899561, 15.77597194, 18.51574932,\n",
       "       16.56760325, 18.45952311])"
      ]
     },
     "execution_count": 133,
     "metadata": {},
     "output_type": "execute_result"
    }
   ],
   "source": [
    "predictions = trip_model.predict(75, 85, typ='levels')\n",
    "predictions"
   ]
  },
  {
   "cell_type": "code",
   "execution_count": 134,
   "metadata": {},
   "outputs": [],
   "source": [
    "test = np.append(trip_matrix, predictions)"
   ]
  },
  {
   "cell_type": "code",
   "execution_count": 135,
   "metadata": {},
   "outputs": [],
   "source": [
    "test1 = pd.Series(test)"
   ]
  },
  {
   "cell_type": "code",
   "execution_count": 136,
   "metadata": {},
   "outputs": [
    {
     "data": {
      "text/plain": [
       "0     10.000000\n",
       "1     25.000000\n",
       "2     19.000000\n",
       "3     37.000000\n",
       "4     11.000000\n",
       "5     23.000000\n",
       "6      6.000000\n",
       "7     36.000000\n",
       "8     16.000000\n",
       "9     20.000000\n",
       "10    12.000000\n",
       "11    65.000000\n",
       "12    17.000000\n",
       "13    27.000000\n",
       "14    20.000000\n",
       "15    47.000000\n",
       "16    17.000000\n",
       "17    22.000000\n",
       "18    10.000000\n",
       "19    32.000000\n",
       "20    30.000000\n",
       "21    19.000000\n",
       "22    16.000000\n",
       "23    52.000000\n",
       "24    18.000000\n",
       "25    36.000000\n",
       "26    31.000000\n",
       "27    31.000000\n",
       "28    15.000000\n",
       "29    43.000000\n",
       "        ...    \n",
       "56     6.000000\n",
       "57    16.000000\n",
       "58    17.000000\n",
       "59    15.000000\n",
       "60    21.000000\n",
       "61    37.000000\n",
       "62    14.000000\n",
       "63    10.000000\n",
       "64    18.000000\n",
       "65     8.000000\n",
       "66    14.000000\n",
       "67    18.000000\n",
       "68    17.000000\n",
       "69    23.000000\n",
       "70    13.000000\n",
       "71    22.000000\n",
       "72    10.000000\n",
       "73    26.000000\n",
       "74    13.724121\n",
       "75    20.139923\n",
       "76    14.225241\n",
       "77    22.027645\n",
       "78    14.851814\n",
       "79    19.194158\n",
       "80    15.932602\n",
       "81    19.728996\n",
       "82    15.775972\n",
       "83    18.515749\n",
       "84    16.567603\n",
       "85    18.459523\n",
       "Length: 86, dtype: float64"
      ]
     },
     "execution_count": 136,
     "metadata": {},
     "output_type": "execute_result"
    }
   ],
   "source": [
    "test1"
   ]
  },
  {
   "cell_type": "code",
   "execution_count": 137,
   "metadata": {},
   "outputs": [
    {
     "data": {
      "text/plain": [
       "[<matplotlib.lines.Line2D at 0x1c2d97fd30>]"
      ]
     },
     "execution_count": 137,
     "metadata": {},
     "output_type": "execute_result"
    },
    {
     "data": {
      "image/png": "[encoded data removed]",
      "text/plain": [
       "<Figure size 432x288 with 1 Axes>"
      ]
     },
     "metadata": {
      "needs_background": "light"
     },
     "output_type": "display_data"
    }
   ],
   "source": [
    "plt.plot(test1.index[0:74], test1[0:74])\n",
    "plt.plot(test1.index[74:], test1[74:])\n"
   ]
  },
  {
   "cell_type": "code",
   "execution_count": 138,
   "metadata": {},
   "outputs": [],
   "source": [
    "from sklearn.model_selection import TimeSeriesSplit"
   ]
  },
  {
   "cell_type": "code",
   "execution_count": 139,
   "metadata": {},
   "outputs": [
    {
     "name": "stdout",
     "output_type": "stream",
     "text": [
      "Observations: 38\n",
      "Training Observations: 20\n",
      "Testing Observations: 18\n",
      "Observations: 56\n",
      "Training Observations: 38\n",
      "Testing Observations: 18\n",
      "Observations: 74\n",
      "Training Observations: 56\n",
      "Testing Observations: 18\n"
     ]
    },
    {
     "data": {
      "image/png": "[encoded data removed]",
      "text/plain": [
       "<Figure size 720x720 with 3 Axes>"
      ]
     },
     "metadata": {
      "needs_background": "light"
     },
     "output_type": "display_data"
    }
   ],
   "source": [
    "tseries = pd.Series(ts[:,1])\n",
    "tscv = TimeSeriesSplit(n_splits=3)\n",
    "fig = plt.figure(figsize=(10,10))\n",
    "index = 1\n",
    "for train_index, test_index in tscv.split(tseries):\n",
    "    train = tseries[train_index]\n",
    "    test = tseries[test_index]\n",
    "\n",
    "    print('Observations: %d' % (len(train) + len(test)))\n",
    "    print('Training Observations: %d' % (len(train)))\n",
    "    print('Testing Observations: %d' % (len(test)))\n",
    "    plt.subplot(5,1,index)\n",
    "    plt.plot(train)\n",
    "    plt.plot([None for i in train] + [x for x in test])\n",
    "    index += 1\n",
    "plt.show()"
   ]
  },
  {
   "cell_type": "code",
   "execution_count": 140,
   "metadata": {},
   "outputs": [],
   "source": [
    "def ARIMA_pred(arr, p=3, d=1, q=0):\n",
    "    tseries = pd.Series(arr[:,1])\n",
    "    \n",
    "    tscv = TimeSeriesSplit(n_splits=3)\n",
    "    fig = plt.figure(figsize=(10,10))\n",
    "    index = 1\n",
    "    \n",
    "    actual = []\n",
    "    \n",
    "    for train_index, test_index in tscv.split(tseries):\n",
    "        train = tseries[train_index]\n",
    "        test = tseries[test_index]\n",
    "\n",
    "        train_matrix = train.as_matrix()\n",
    "        a_model = ARIMA(train_matrix, order=(p, d, q)).fit()\n",
    "    \n",
    "        train_sze = len(train)\n",
    "        predictions = trip_model.predict(train_sze, train_sze+len(test)-1, typ='levels')\n",
    "        \n",
    "        \n",
    "        \n",
    "        #combine to plot on same graph\n",
    "        combined = np.append(trip_matrix, predictions)\n",
    "        combined = pd.Series(combined)\n",
    "        plt.subplot(3,1,index)\n",
    "        plt.plot(combined.index[:train_sze], combined[:train_sze])\n",
    "        plt.plot(combined.index[train_sze:], combined[train_sze:])\n",
    "#         plt.plot(test)\n",
    "        print (mean_squared_error(predictions, np.array(test)))\n",
    "        print (np.array(test))\n",
    "#         print(len(train_index))\n",
    "#         print (test_index)\n",
    "        print (predictions)\n",
    "        \n",
    "        index +=1\n",
    "        \n",
    "\n"
   ]
  },
  {
   "cell_type": "code",
   "execution_count": 141,
   "metadata": {},
   "outputs": [
    {
     "name": "stderr",
     "output_type": "stream",
     "text": [
      "/anaconda3/lib/python3.6/site-packages/ipykernel_launcher.py:14: FutureWarning: Method .as_matrix will be removed in a future version. Use .values instead.\n",
      "  \n",
      "/anaconda3/lib/python3.6/site-packages/ipykernel_launcher.py:14: FutureWarning: Method .as_matrix will be removed in a future version. Use .values instead.\n",
      "  \n",
      "/anaconda3/lib/python3.6/site-packages/ipykernel_launcher.py:14: FutureWarning: Method .as_matrix will be removed in a future version. Use .values instead.\n",
      "  \n"
     ]
    },
    {
     "name": "stdout",
     "output_type": "stream",
     "text": [
      "132.0021569068904\n",
      "[30 19 16 52 18 36 31 31 15 43 18 27 13 15 38  7 11 28]\n",
      "[15.66635879 20.56033277 19.54287858 29.29671767 22.54200235 25.63839382\n",
      " 24.41562546 40.65541537 24.68608253 34.634785   26.50311165 30.20419075\n",
      " 22.04569254 34.49813729 19.19818175 19.86281937 19.39669625 19.18226091]\n",
      "79.02286051307338\n",
      "[25 19 10 13 33 11  9 26 20 17  8 20 12  5 13  8 15 31]\n",
      "[24.28598738 11.60779368 17.94633832 26.06559861 20.57803882 14.34319619\n",
      " 15.79265358 17.77467275 22.11459895 13.21813093 15.263468   23.2922698\n",
      " 16.33725728 15.49535989 12.02012152 14.77207767 10.49758382  7.00633061]\n",
      "78.8571361059668\n",
      "[ 6 16 17 15 21 37 14 10 18  8 14 18 17 23 13 22 10 26]\n",
      "[10.9629619  14.99800382 16.85979498 21.79645317 10.40095239 15.58181158\n",
      " 16.07537414 21.45452239 24.01202253 25.87093303 14.06994639 11.21670375\n",
      " 14.35381092 11.14222388 15.03330726 19.01281692 17.18782261 20.79174364]\n"
     ]
    },
    {
     "data": {
      "image/png": "[encoded data removed]",
      "text/plain": [
       "<Figure size 720x720 with 3 Axes>"
      ]
     },
     "metadata": {
      "needs_background": "light"
     },
     "output_type": "display_data"
    }
   ],
   "source": [
    "ARIMA_pred(ts,3,1,0)"
   ]
  },
  {
   "cell_type": "code",
   "execution_count": null,
   "metadata": {},
   "outputs": [],
   "source": []
  },
  {
   "cell_type": "code",
   "execution_count": 29,
   "metadata": {},
   "outputs": [],
   "source": []
  },
  {
   "cell_type": "code",
   "execution_count": null,
   "metadata": {},
   "outputs": [],
   "source": []
  },
  {
   "cell_type": "code",
   "execution_count": null,
   "metadata": {},
   "outputs": [],
   "source": []
  },
  {
   "cell_type": "code",
   "execution_count": null,
   "metadata": {},
   "outputs": [],
   "source": []
  },
  {
   "cell_type": "code",
   "execution_count": null,
   "metadata": {},
   "outputs": [],
   "source": []
  },
  {
   "cell_type": "code",
   "execution_count": null,
   "metadata": {},
   "outputs": [],
   "source": []
  },
  {
   "cell_type": "code",
   "execution_count": null,
   "metadata": {},
   "outputs": [],
   "source": []
  },
  {
   "cell_type": "code",
   "execution_count": null,
   "metadata": {},
   "outputs": [],
   "source": []
  },
  {
   "cell_type": "code",
   "execution_count": null,
   "metadata": {},
   "outputs": [],
   "source": []
  },
  {
   "cell_type": "code",
   "execution_count": null,
   "metadata": {},
   "outputs": [],
   "source": []
  },
  {
   "cell_type": "code",
   "execution_count": 31,
   "metadata": {},
   "outputs": [],
   "source": [
    "# #Print MSE to see how good the model is\n",
    "# Error = mean_squared_error(TestData, Predictions)\n",
    "# print('Test Mean Squared Error (smaller the better fit): %.3f' % Error)\n",
    "# # plot\n",
    "# pyplot.plot(TestData)\n",
    "# pyplot.plot(Predictions, color='red')\n",
    "# pyplot.show()"
   ]
  },
  {
   "cell_type": "code",
   "execution_count": null,
   "metadata": {},
   "outputs": [],
   "source": []
  },
  {
   "cell_type": "code",
   "execution_count": null,
   "metadata": {},
   "outputs": [],
   "source": []
  },
  {
   "cell_type": "code",
   "execution_count": 32,
   "metadata": {},
   "outputs": [],
   "source": [
    "# #in a for loop, predict values using ARIMA model\n",
    "# for timepoint in range(len(TestData)):\n",
    "#     ActualValue =  TestData[timepoint]\n",
    "#     #forcast value\n",
    "#     Prediction = StartARIMAForecasting(Actual, 3,1,0)    \n",
    "#     print('Actual=%f, Predicted=%f' % (ActualValue, Prediction))\n",
    "#     Predictions.append(Prediction)\n",
    "#     Actual.append(ActualValue)"
   ]
  },
  {
   "cell_type": "code",
   "execution_count": null,
   "metadata": {},
   "outputs": [],
   "source": []
  },
  {
   "cell_type": "code",
   "execution_count": null,
   "metadata": {
    "scrolled": true
   },
   "outputs": [],
   "source": []
  },
  {
   "cell_type": "code",
   "execution_count": null,
   "metadata": {},
   "outputs": [],
   "source": []
  },
  {
   "cell_type": "code",
   "execution_count": null,
   "metadata": {},
   "outputs": [],
   "source": []
  },
  {
   "cell_type": "code",
   "execution_count": null,
   "metadata": {},
   "outputs": [],
   "source": []
  }
 ],
 "metadata": {
  "kernelspec": {
   "display_name": "Python 3",
   "language": "python",
   "name": "python3"
  },
  "language_info": {
   "codemirror_mode": {
    "name": "ipython",
    "version": 3
   },
   "file_extension": ".py",
   "mimetype": "text/x-python",
   "name": "python",
   "nbconvert_exporter": "python",
   "pygments_lexer": "ipython3",
   "version": "3.6.8"
  }
 },
 "nbformat": 4,
 "nbformat_minor": 2
}
