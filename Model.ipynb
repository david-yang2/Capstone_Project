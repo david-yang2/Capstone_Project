{
 "cells": [
  {
   "cell_type": "code",
   "execution_count": 1,
   "metadata": {},
   "outputs": [],
   "source": [
    "from new_stations import *\n",
    "from time_series_model import *\n",
    "import statsmodels.api as sm\n",
    "import pandas as pd\n",
    "import matplotlib.pyplot as plt\n",
    "%matplotlib inline\n",
    "\n",
    "import statsmodels.api as sm\n",
    "from statsmodels.tsa.arima_model import ARIMA, ARIMAResults\n",
    "from statsmodels.tsa.arima_process import ArmaProcess\n",
    "from statsmodels.stats.diagnostic import acorr_ljungbox\n",
    "from sklearn.metrics import mean_squared_error\n",
    "from statsmodels.tsa.stattools import acf, pacf\n",
    "from scipy import signal\n",
    "from scipy import stats\n",
    "\n",
    "\n",
    "\n",
    "\n",
    "\n",
    "\n"
   ]
  },
  {
   "cell_type": "code",
   "execution_count": 2,
   "metadata": {},
   "outputs": [
    {
     "name": "stderr",
     "output_type": "stream",
     "text": [
      "/anaconda3/lib/python3.6/site-packages/IPython/core/interactiveshell.py:3185: DtypeWarning: Columns (16) have mixed types. Specify dtype option on import or set low_memory=False.\n",
      "  if (yield from self.run_code(code, result)):\n"
     ]
    }
   ],
   "source": [
    "data, weather = load_data()"
   ]
  },
  {
   "cell_type": "code",
   "execution_count": null,
   "metadata": {},
   "outputs": [],
   "source": []
  },
  {
   "cell_type": "code",
   "execution_count": null,
   "metadata": {},
   "outputs": [],
   "source": []
  },
  {
   "cell_type": "code",
   "execution_count": 3,
   "metadata": {},
   "outputs": [],
   "source": [
    "data = feature_addition(data)"
   ]
  },
  {
   "cell_type": "code",
   "execution_count": 4,
   "metadata": {},
   "outputs": [],
   "source": [
    "sf = model_city(data,1)"
   ]
  },
  {
   "cell_type": "code",
   "execution_count": null,
   "metadata": {},
   "outputs": [],
   "source": []
  },
  {
   "cell_type": "code",
   "execution_count": 5,
   "metadata": {},
   "outputs": [],
   "source": [
    "def month_sep(df, year, month):\n",
    "    cdf = df[(df.year == year) & (df.month == month)]\n",
    "    ndf = df[(df.year == year) & (df.month == (month-1))]\n",
    "    return cdf, ndf"
   ]
  },
  {
   "cell_type": "code",
   "execution_count": 6,
   "metadata": {},
   "outputs": [],
   "source": [
    "#cdf = current month df\n",
    "#ndf = next month df\n",
    "cdf, ndf = month_sep(sf, 2018, 4)"
   ]
  },
  {
   "cell_type": "code",
   "execution_count": 7,
   "metadata": {},
   "outputs": [],
   "source": [
    "#proposed stations\n",
    "ps = new_stn_coords(cdf, ndf)"
   ]
  },
  {
   "cell_type": "code",
   "execution_count": 49,
   "metadata": {},
   "outputs": [
    {
     "data": {
      "text/plain": [
       "[155.0, 148.0, 163.0]"
      ]
     },
     "execution_count": 49,
     "metadata": {},
     "output_type": "execute_result"
    }
   ],
   "source": [
    "ps"
   ]
  },
  {
   "cell_type": "code",
   "execution_count": 40,
   "metadata": {},
   "outputs": [],
   "source": [
    "df1 = cdf"
   ]
  },
  {
   "cell_type": "code",
   "execution_count": 41,
   "metadata": {},
   "outputs": [],
   "source": [
    "df2 = ndf"
   ]
  },
  {
   "cell_type": "code",
   "execution_count": null,
   "metadata": {},
   "outputs": [],
   "source": []
  },
  {
   "cell_type": "code",
   "execution_count": null,
   "metadata": {},
   "outputs": [],
   "source": []
  },
  {
   "cell_type": "code",
   "execution_count": null,
   "metadata": {},
   "outputs": [],
   "source": []
  },
  {
   "cell_type": "code",
   "execution_count": null,
   "metadata": {},
   "outputs": [],
   "source": []
  },
  {
   "cell_type": "code",
   "execution_count": null,
   "metadata": {},
   "outputs": [],
   "source": []
  },
  {
   "cell_type": "code",
   "execution_count": null,
   "metadata": {},
   "outputs": [],
   "source": []
  },
  {
   "cell_type": "code",
   "execution_count": 53,
   "metadata": {},
   "outputs": [
    {
     "name": "stderr",
     "output_type": "stream",
     "text": [
      "/Users/michellehoang/galvanize/Capstone_Project/time_series_model.py:17: SettingWithCopyWarning: \n",
      "A value is trying to be set on a copy of a slice from a DataFrame.\n",
      "Try using .loc[row_indexer,col_indexer] = value instead\n",
      "\n",
      "See the caveats in the documentation: http://pandas.pydata.org/pandas-docs/stable/indexing.html#indexing-view-versus-copy\n",
      "  tsdf['days'] = 1\n",
      "/Users/michellehoang/galvanize/Capstone_Project/time_series_model.py:32: SettingWithCopyWarning: \n",
      "A value is trying to be set on a copy of a slice from a DataFrame\n",
      "\n",
      "See the caveats in the documentation: http://pandas.pydata.org/pandas-docs/stable/indexing.html#indexing-view-versus-copy\n",
      "  tsdf['days'][tsdf.month == mon] = tsdf.day * mult\n",
      "/anaconda3/lib/python3.6/site-packages/pandas/core/generic.py:8672: SettingWithCopyWarning: \n",
      "A value is trying to be set on a copy of a slice from a DataFrame\n",
      "\n",
      "See the caveats in the documentation: http://pandas.pydata.org/pandas-docs/stable/indexing.html#indexing-view-versus-copy\n",
      "  self._update_inplace(new_data)\n",
      "/anaconda3/lib/python3.6/site-packages/ipykernel_launcher.py:1: SettingWithCopyWarning: \n",
      "A value is trying to be set on a copy of a slice from a DataFrame\n",
      "\n",
      "See the caveats in the documentation: http://pandas.pydata.org/pandas-docs/stable/indexing.html#indexing-view-versus-copy\n",
      "  \"\"\"Entry point for launching an IPython kernel.\n"
     ]
    }
   ],
   "source": [
    "qtr = days_for_ts(sf, cdf,3)"
   ]
  },
  {
   "cell_type": "code",
   "execution_count": 54,
   "metadata": {},
   "outputs": [
    {
     "data": {
      "text/html": [
       "<div>\n",
       "<style scoped>\n",
       "    .dataframe tbody tr th:only-of-type {\n",
       "        vertical-align: middle;\n",
       "    }\n",
       "\n",
       "    .dataframe tbody tr th {\n",
       "        vertical-align: top;\n",
       "    }\n",
       "\n",
       "    .dataframe thead th {\n",
       "        text-align: right;\n",
       "    }\n",
       "</style>\n",
       "<table border=\"1\" class=\"dataframe\">\n",
       "  <thead>\n",
       "    <tr style=\"text-align: right;\">\n",
       "      <th></th>\n",
       "      <th>duration_sec</th>\n",
       "      <th>start_time</th>\n",
       "      <th>end_time</th>\n",
       "      <th>start_station_id</th>\n",
       "      <th>start_station_name</th>\n",
       "      <th>start_station_latitude</th>\n",
       "      <th>start_station_longitude</th>\n",
       "      <th>end_station_id</th>\n",
       "      <th>end_station_name</th>\n",
       "      <th>end_station_latitude</th>\n",
       "      <th>...</th>\n",
       "      <th>bike_share_for_all_trip</th>\n",
       "      <th>day_of_week</th>\n",
       "      <th>date</th>\n",
       "      <th>year</th>\n",
       "      <th>month</th>\n",
       "      <th>day</th>\n",
       "      <th>hour</th>\n",
       "      <th>malfunction</th>\n",
       "      <th>age</th>\n",
       "      <th>days</th>\n",
       "    </tr>\n",
       "  </thead>\n",
       "  <tbody>\n",
       "    <tr>\n",
       "      <th>0</th>\n",
       "      <td>75284</td>\n",
       "      <td>2018-01-31 22:52:35.239</td>\n",
       "      <td>2018-02-01 19:47:19.8240</td>\n",
       "      <td>120.0</td>\n",
       "      <td>Mission Dolores Park</td>\n",
       "      <td>37.761420</td>\n",
       "      <td>-122.426435</td>\n",
       "      <td>285.0</td>\n",
       "      <td>Webster St at O'Farrell St</td>\n",
       "      <td>37.783521</td>\n",
       "      <td>...</td>\n",
       "      <td>No</td>\n",
       "      <td>2</td>\n",
       "      <td>2018-01-31</td>\n",
       "      <td>2018</td>\n",
       "      <td>1</td>\n",
       "      <td>31</td>\n",
       "      <td>22</td>\n",
       "      <td>False</td>\n",
       "      <td>33.0</td>\n",
       "      <td>31</td>\n",
       "    </tr>\n",
       "    <tr>\n",
       "      <th>1</th>\n",
       "      <td>85422</td>\n",
       "      <td>2018-01-31 16:13:34.351</td>\n",
       "      <td>2018-02-01 15:57:17.3100</td>\n",
       "      <td>15.0</td>\n",
       "      <td>San Francisco Ferry Building (Harry Bridges Pl...</td>\n",
       "      <td>37.795392</td>\n",
       "      <td>-122.394203</td>\n",
       "      <td>15.0</td>\n",
       "      <td>San Francisco Ferry Building (Harry Bridges Pl...</td>\n",
       "      <td>37.795392</td>\n",
       "      <td>...</td>\n",
       "      <td>No</td>\n",
       "      <td>2</td>\n",
       "      <td>2018-01-31</td>\n",
       "      <td>2018</td>\n",
       "      <td>1</td>\n",
       "      <td>31</td>\n",
       "      <td>16</td>\n",
       "      <td>False</td>\n",
       "      <td>NaN</td>\n",
       "      <td>31</td>\n",
       "    </tr>\n",
       "  </tbody>\n",
       "</table>\n",
       "<p>2 rows × 25 columns</p>\n",
       "</div>"
      ],
      "text/plain": [
       "   duration_sec              start_time                  end_time  \\\n",
       "0         75284 2018-01-31 22:52:35.239  2018-02-01 19:47:19.8240   \n",
       "1         85422 2018-01-31 16:13:34.351  2018-02-01 15:57:17.3100   \n",
       "\n",
       "   start_station_id                                 start_station_name  \\\n",
       "0             120.0                               Mission Dolores Park   \n",
       "1              15.0  San Francisco Ferry Building (Harry Bridges Pl...   \n",
       "\n",
       "   start_station_latitude  start_station_longitude  end_station_id  \\\n",
       "0               37.761420              -122.426435           285.0   \n",
       "1               37.795392              -122.394203            15.0   \n",
       "\n",
       "                                    end_station_name  end_station_latitude  \\\n",
       "0                         Webster St at O'Farrell St             37.783521   \n",
       "1  San Francisco Ferry Building (Harry Bridges Pl...             37.795392   \n",
       "\n",
       "   ...  bike_share_for_all_trip  day_of_week        date  year month day  \\\n",
       "0  ...                       No            2  2018-01-31  2018     1  31   \n",
       "1  ...                       No            2  2018-01-31  2018     1  31   \n",
       "\n",
       "   hour malfunction   age  days  \n",
       "0    22       False  33.0    31  \n",
       "1    16       False   NaN    31  \n",
       "\n",
       "[2 rows x 25 columns]"
      ]
     },
     "execution_count": 54,
     "metadata": {},
     "output_type": "execute_result"
    }
   ],
   "source": [
    "qtr.head(2)"
   ]
  },
  {
   "cell_type": "code",
   "execution_count": 55,
   "metadata": {},
   "outputs": [
    {
     "data": {
      "text/plain": [
       "0         False\n",
       "1         False\n",
       "3         False\n",
       "4         False\n",
       "6         False\n",
       "7         False\n",
       "8         False\n",
       "10        False\n",
       "11        False\n",
       "12        False\n",
       "15        False\n",
       "16        False\n",
       "17        False\n",
       "23        False\n",
       "25        False\n",
       "26        False\n",
       "29        False\n",
       "30        False\n",
       "31        False\n",
       "32        False\n",
       "33        False\n",
       "34        False\n",
       "36        False\n",
       "37        False\n",
       "38        False\n",
       "39        False\n",
       "41        False\n",
       "42        False\n",
       "43        False\n",
       "44        False\n",
       "          ...  \n",
       "444011    False\n",
       "444012    False\n",
       "444013    False\n",
       "444014    False\n",
       "444015    False\n",
       "444016    False\n",
       "444019    False\n",
       "444020    False\n",
       "444021    False\n",
       "444024    False\n",
       "444026    False\n",
       "444028    False\n",
       "444029    False\n",
       "444035    False\n",
       "444042    False\n",
       "444043    False\n",
       "444044    False\n",
       "444045    False\n",
       "444047    False\n",
       "444048    False\n",
       "444050    False\n",
       "444052    False\n",
       "444058    False\n",
       "444059    False\n",
       "444062    False\n",
       "444064    False\n",
       "444065    False\n",
       "444067    False\n",
       "444068    False\n",
       "444069    False\n",
       "Name: end_station_longitude, Length: 327775, dtype: bool"
      ]
     },
     "execution_count": 55,
     "metadata": {},
     "output_type": "execute_result"
    }
   ],
   "source": [
    "(qtr.end_station_longitude == -122.2914153)&(qtr.end_station_latitude == 37.8107432)"
   ]
  },
  {
   "cell_type": "code",
   "execution_count": 42,
   "metadata": {},
   "outputs": [],
   "source": [
    "# def knn_proposed_stn(df1, df2, proposed_stn, num_neighbors = 3):\n",
    "    \n",
    "#all coords for current month df\n",
    "coordinates = np.array(df1[['start_station_longitude', 'start_station_latitude']])"
   ]
  },
  {
   "cell_type": "code",
   "execution_count": 43,
   "metadata": {},
   "outputs": [],
   "source": [
    "#unique coords for current month df\n",
    "unique_coords = np.unique(coordinates, axis = 0)"
   ]
  },
  {
   "cell_type": "code",
   "execution_count": 46,
   "metadata": {},
   "outputs": [],
   "source": [
    "#get the id and coords combinations for current/next month\n",
    "id_coord_df1 = stn_coords(df1)\n",
    "id_coord_df2 = stn_coords(df2)"
   ]
  },
  {
   "cell_type": "code",
   "execution_count": 52,
   "metadata": {},
   "outputs": [
    {
     "name": "stdout",
     "output_type": "stream",
     "text": [
      "[-122.2914153   37.8107432]\n"
     ]
    }
   ],
   "source": [
    "\n",
    "#empty dict for station id and coordinate\n",
    "knn_dict = {}\n",
    "\n",
    "# for p in proposed_stn:\n",
    "\n",
    "    #distance between first proposed station and everything else\n",
    "distance = euclidean_distance(id_coord_df2.get(155), unique_coords)\n",
    "\n",
    "#sort coords from closest to furthest\n",
    "neighbors = unique_coords[np.argsort(distance)]\n",
    "for ef in neighbors:\n",
    "    if \n",
    "print(neighbors[0])\n",
    "#     count = 0 \n",
    "#     while count <= num_neighbors:\n",
    "        \n",
    "#         k = df.start_station_id[(df.start_station_longitude == id_coord_df2.get(p)[0]) &(df.start_station_latitude == id_coord_df2.get(p)[1])].iloc[0]\n",
    "#     v = []\n",
    "#     for i in range(num_neighbors):\n",
    "#         knn_id = df1.start_station_id[(df1.start_station_longitude == neighbors[i][0]) &(df1.start_station_latitude == neighbors[i][1])].iloc[0]\n",
    "#         v.append(int(knn_id))\n",
    "#     knn_dict[int(p)] = v\n",
    "# #     return knn_dict, id_coord_df1"
   ]
  },
  {
   "cell_type": "code",
   "execution_count": 38,
   "metadata": {},
   "outputs": [],
   "source": [
    "#neighbors for each proposed location\n",
    "#id and coordinate combo for each station\n",
    "neighbors, id_coord= knn_proposed_stn(cdf, ndf, ps)"
   ]
  },
  {
   "cell_type": "code",
   "execution_count": 39,
   "metadata": {},
   "outputs": [
    {
     "data": {
      "text/plain": [
       "{155: [231, 7, 239], 148: [231, 7, 239], 163: [231, 230, 239]}"
      ]
     },
     "execution_count": 39,
     "metadata": {},
     "output_type": "execute_result"
    }
   ],
   "source": [
    "neighbors"
   ]
  },
  {
   "cell_type": "code",
   "execution_count": null,
   "metadata": {},
   "outputs": [],
   "source": []
  },
  {
   "cell_type": "code",
   "execution_count": 12,
   "metadata": {},
   "outputs": [],
   "source": [
    "# t = 230\n",
    "# print(\"The origin station is {}.\".format(t))\n",
    "# print(\"The 3 closest neighbors are: {}, {}, {}\".format(int(neighbors.get(t)[0]),int(neighbors.get(t)[1]),int(neighbors.get(t)[2])))\n",
    "# plt.figure(figsize = (10,10))\n",
    "# ll,rr = -122.50, -122.36\n",
    "# bb = 37.73\n",
    "# plt.xlim(ll,rr)\n",
    "# plt.ylim(bb, bb+(rr-ll))\n",
    "# plt.xlabel(\"Longitude\")\n",
    "# plt.ylabel(\"Latitude\")\n",
    "# plt.title(\"Map of Ford GoBike stations in San Francisco\")\n",
    "# plt.scatter(qtr.end_station_longitude, qtr.end_station_latitude, s=1, c=('r'))\n",
    "# plt.scatter(id_coord.get(t)[0], id_coord.get(t)[1], s=20, marker='x', c=('b'))\n",
    "\n",
    "# for st in neighbors.get(t):\n",
    "#     plt.scatter(id_coord.get(st)[0],id_coord.get(st)[1], s= 10, c='g')\n",
    "# plt.show()\n",
    "\n"
   ]
  },
  {
   "cell_type": "code",
   "execution_count": null,
   "metadata": {},
   "outputs": [],
   "source": []
  },
  {
   "cell_type": "code",
   "execution_count": null,
   "metadata": {},
   "outputs": [],
   "source": []
  },
  {
   "cell_type": "code",
   "execution_count": null,
   "metadata": {},
   "outputs": [],
   "source": []
  },
  {
   "cell_type": "code",
   "execution_count": null,
   "metadata": {},
   "outputs": [],
   "source": []
  },
  {
   "cell_type": "code",
   "execution_count": null,
   "metadata": {},
   "outputs": [],
   "source": []
  },
  {
   "cell_type": "code",
   "execution_count": null,
   "metadata": {},
   "outputs": [],
   "source": []
  },
  {
   "cell_type": "code",
   "execution_count": null,
   "metadata": {},
   "outputs": [],
   "source": []
  },
  {
   "cell_type": "code",
   "execution_count": null,
   "metadata": {},
   "outputs": [],
   "source": []
  },
  {
   "cell_type": "code",
   "execution_count": null,
   "metadata": {},
   "outputs": [],
   "source": []
  },
  {
   "cell_type": "code",
   "execution_count": null,
   "metadata": {},
   "outputs": [],
   "source": []
  },
  {
   "cell_type": "code",
   "execution_count": null,
   "metadata": {},
   "outputs": [],
   "source": []
  },
  {
   "cell_type": "code",
   "execution_count": null,
   "metadata": {},
   "outputs": [],
   "source": []
  },
  {
   "cell_type": "code",
   "execution_count": null,
   "metadata": {},
   "outputs": [],
   "source": []
  },
  {
   "cell_type": "code",
   "execution_count": null,
   "metadata": {},
   "outputs": [],
   "source": []
  },
  {
   "cell_type": "code",
   "execution_count": 13,
   "metadata": {},
   "outputs": [],
   "source": [
    "ts = days_count(qtr, 28)"
   ]
  },
  {
   "cell_type": "code",
   "execution_count": 14,
   "metadata": {},
   "outputs": [],
   "source": [
    "tseries = pd.Series(ts[:,1])"
   ]
  },
  {
   "cell_type": "code",
   "execution_count": null,
   "metadata": {},
   "outputs": [],
   "source": []
  },
  {
   "cell_type": "code",
   "execution_count": 15,
   "metadata": {},
   "outputs": [
    {
     "name": "stdout",
     "output_type": "stream",
     "text": [
      "ADF p-value: 0.76\n"
     ]
    }
   ],
   "source": [
    "test = sm.tsa.stattools.adfuller(tseries)\n",
    "print(\"ADF p-value: {0:2.2f}\".format(test[1]))"
   ]
  },
  {
   "cell_type": "code",
   "execution_count": 16,
   "metadata": {},
   "outputs": [],
   "source": [
    "tseries_diffed = tseries.diff()[1:]"
   ]
  },
  {
   "cell_type": "code",
   "execution_count": 17,
   "metadata": {},
   "outputs": [
    {
     "data": {
      "text/plain": [
       "8.546153703655687e-09"
      ]
     },
     "execution_count": 17,
     "metadata": {},
     "output_type": "execute_result"
    }
   ],
   "source": [
    "sm.tsa.stattools.adfuller(tseries_diffed)[1]"
   ]
  },
  {
   "cell_type": "code",
   "execution_count": 18,
   "metadata": {},
   "outputs": [
    {
     "data": {
      "text/plain": [
       "False"
      ]
     },
     "execution_count": 18,
     "metadata": {},
     "output_type": "execute_result"
    }
   ],
   "source": [
    "sm.tsa.stattools.adfuller(tseries_diffed)[1]>0.05"
   ]
  },
  {
   "cell_type": "code",
   "execution_count": 19,
   "metadata": {},
   "outputs": [],
   "source": [
    "def stationary_convert(series, pvalue=0.05):\n",
    "    test = sm.tsa.stattools.adfuller(series)\n",
    "    if test[1] > pvalue:\n",
    "        tseries_diffed = tseries.diff()[1:]\n",
    "        return tseries_diffed\n",
    "    return series"
   ]
  },
  {
   "cell_type": "code",
   "execution_count": null,
   "metadata": {},
   "outputs": [],
   "source": []
  },
  {
   "cell_type": "code",
   "execution_count": null,
   "metadata": {},
   "outputs": [],
   "source": []
  },
  {
   "cell_type": "code",
   "execution_count": 20,
   "metadata": {},
   "outputs": [
    {
     "name": "stderr",
     "output_type": "stream",
     "text": [
      "/anaconda3/lib/python3.6/site-packages/ipykernel_launcher.py:1: FutureWarning: Method .as_matrix will be removed in a future version. Use .values instead.\n",
      "  \"\"\"Entry point for launching an IPython kernel.\n"
     ]
    },
    {
     "data": {
      "text/plain": [
       "array([ 16,  67,  40,  86,  21,  58,  11,  43,  35,  65,  31, 102,  10,\n",
       "        50,  34, 103,  40,  73,  25,  77,  37,  37,  36,  86,  24,  65,\n",
       "        40,  56,  38,  83,  37,  37,  25,  18,  64,   9,  20,  54,  59,\n",
       "        41,  16,  21,  81,   5,   9,  49,  34,  35,  25,  24,  27,  20,\n",
       "        15,  25,  20,  42,  11,  22,  25,  24,  24,  56,  35,  13,  34,\n",
       "        33,  29,  32,  48,  29,  35,  22,  34,  35])"
      ]
     },
     "execution_count": 20,
     "metadata": {},
     "output_type": "execute_result"
    }
   ],
   "source": [
    "trip_matrix = tseries.as_matrix()\n",
    "trip_matrix"
   ]
  },
  {
   "cell_type": "code",
   "execution_count": null,
   "metadata": {},
   "outputs": [],
   "source": []
  },
  {
   "cell_type": "code",
   "execution_count": 21,
   "metadata": {},
   "outputs": [],
   "source": [
    "trip_model = ARIMA(trip_matrix, order=(3, 1, 0)).fit()"
   ]
  },
  {
   "cell_type": "code",
   "execution_count": 22,
   "metadata": {},
   "outputs": [
    {
     "data": {
      "text/plain": [
       "array([31.92506524, 26.83682867, 32.80513055, 31.3334511 , 30.62499936,\n",
       "       28.27070611, 31.18011506, 29.52909591, 29.65096089, 28.29254929,\n",
       "       29.70831335, 28.39198003])"
      ]
     },
     "execution_count": 22,
     "metadata": {},
     "output_type": "execute_result"
    }
   ],
   "source": [
    "predictions = trip_model.predict(75, 85, typ='levels')\n",
    "predictions"
   ]
  },
  {
   "cell_type": "code",
   "execution_count": 23,
   "metadata": {},
   "outputs": [],
   "source": [
    "test = np.append(trip_matrix, predictions)"
   ]
  },
  {
   "cell_type": "code",
   "execution_count": 24,
   "metadata": {},
   "outputs": [],
   "source": [
    "test1 = pd.Series(test)"
   ]
  },
  {
   "cell_type": "code",
   "execution_count": 25,
   "metadata": {},
   "outputs": [
    {
     "data": {
      "text/plain": [
       "0      16.000000\n",
       "1      67.000000\n",
       "2      40.000000\n",
       "3      86.000000\n",
       "4      21.000000\n",
       "5      58.000000\n",
       "6      11.000000\n",
       "7      43.000000\n",
       "8      35.000000\n",
       "9      65.000000\n",
       "10     31.000000\n",
       "11    102.000000\n",
       "12     10.000000\n",
       "13     50.000000\n",
       "14     34.000000\n",
       "15    103.000000\n",
       "16     40.000000\n",
       "17     73.000000\n",
       "18     25.000000\n",
       "19     77.000000\n",
       "20     37.000000\n",
       "21     37.000000\n",
       "22     36.000000\n",
       "23     86.000000\n",
       "24     24.000000\n",
       "25     65.000000\n",
       "26     40.000000\n",
       "27     56.000000\n",
       "28     38.000000\n",
       "29     83.000000\n",
       "         ...    \n",
       "56     11.000000\n",
       "57     22.000000\n",
       "58     25.000000\n",
       "59     24.000000\n",
       "60     24.000000\n",
       "61     56.000000\n",
       "62     35.000000\n",
       "63     13.000000\n",
       "64     34.000000\n",
       "65     33.000000\n",
       "66     29.000000\n",
       "67     32.000000\n",
       "68     48.000000\n",
       "69     29.000000\n",
       "70     35.000000\n",
       "71     22.000000\n",
       "72     34.000000\n",
       "73     35.000000\n",
       "74     31.925065\n",
       "75     26.836829\n",
       "76     32.805131\n",
       "77     31.333451\n",
       "78     30.624999\n",
       "79     28.270706\n",
       "80     31.180115\n",
       "81     29.529096\n",
       "82     29.650961\n",
       "83     28.292549\n",
       "84     29.708313\n",
       "85     28.391980\n",
       "Length: 86, dtype: float64"
      ]
     },
     "execution_count": 25,
     "metadata": {},
     "output_type": "execute_result"
    }
   ],
   "source": [
    "test1"
   ]
  },
  {
   "cell_type": "code",
   "execution_count": 26,
   "metadata": {},
   "outputs": [
    {
     "data": {
      "text/plain": [
       "[<matplotlib.lines.Line2D at 0x1c27f93d68>]"
      ]
     },
     "execution_count": 26,
     "metadata": {},
     "output_type": "execute_result"
    },
    {
     "data": {
      "image/png": "[encoded data removed]",
      "text/plain": [
       "<Figure size 432x288 with 1 Axes>"
      ]
     },
     "metadata": {
      "needs_background": "light"
     },
     "output_type": "display_data"
    }
   ],
   "source": [
    "plt.plot(test1.index[0:74], test1[0:74])\n",
    "plt.plot(test1.index[74:], test1[74:])\n"
   ]
  },
  {
   "cell_type": "code",
   "execution_count": null,
   "metadata": {},
   "outputs": [],
   "source": []
  },
  {
   "cell_type": "code",
   "execution_count": 27,
   "metadata": {},
   "outputs": [],
   "source": [
    "def ARIMA_pred(arr, p=3, d=1, q=0):\n",
    "    tseries = pd.Series(arr[:,1])\n",
    "    test = sm.tsa.stattools.adfuller(tseries)\n",
    "    trip_matrix = tseries.as_matrix()\n",
    "    trip_model = ARIMA(trip_matrix, order=(p, d, q)).fit()\n",
    "    \n",
    "    sze = len(tseries)\n",
    "    predictions = trip_model.predict(sze, sze+30, typ='levels')\n",
    "    test = np.append(trip_matrix, predictions)\n",
    "    test1 = pd.Series(test)\n",
    "    plt.plot(test1.index[:sze], test1[:sze])\n",
    "    plt.plot(test1.index[sze:], test1[sze:])\n",
    "    return predictions\n",
    "\n"
   ]
  },
  {
   "cell_type": "code",
   "execution_count": 28,
   "metadata": {},
   "outputs": [
    {
     "name": "stderr",
     "output_type": "stream",
     "text": [
      "/anaconda3/lib/python3.6/site-packages/ipykernel_launcher.py:4: FutureWarning: Method .as_matrix will be removed in a future version. Use .values instead.\n",
      "  after removing the cwd from sys.path.\n"
     ]
    },
    {
     "data": {
      "text/plain": [
       "array([31.92506524, 26.83682867, 32.80513055, 31.3334511 , 30.62499936,\n",
       "       28.27070611, 31.18011506, 29.52909591, 29.65096089, 28.29254929,\n",
       "       29.70831335, 28.39198003, 28.68278473, 27.74893736, 28.43022705,\n",
       "       27.45818977, 27.6872696 , 26.98040629, 27.28488495, 26.56569353,\n",
       "       26.68119522, 26.11917405, 26.21744619, 25.66644965, 25.67823967,\n",
       "       25.21616606, 25.19365219, 24.75116989, 24.68371858, 24.2917233 ,\n",
       "       24.19440484])"
      ]
     },
     "execution_count": 28,
     "metadata": {},
     "output_type": "execute_result"
    },
    {
     "data": {
      "image/png": "[encoded data removed]",
      "text/plain": [
       "<Figure size 432x288 with 1 Axes>"
      ]
     },
     "metadata": {
      "needs_background": "light"
     },
     "output_type": "display_data"
    }
   ],
   "source": [
    "ARIMA_pred(ts,3,1,0)"
   ]
  },
  {
   "cell_type": "code",
   "execution_count": null,
   "metadata": {},
   "outputs": [],
   "source": []
  },
  {
   "cell_type": "code",
   "execution_count": 29,
   "metadata": {},
   "outputs": [],
   "source": [
    "def plt_stn():\n",
    "    row_sze = len(neighbors)\n",
    "    col_sze = len(next(iter(neighbors.values())))\n",
    "    rnge = row_sze*col_sze\n",
    "    fig = plt.figure(figsize=(10,10))\n",
    "    graph = 1\n",
    "    for k, v in neighbors.items():\n",
    "        num = 1\n",
    "        for s_id in v:\n",
    "            plt.subplot(rnge,1,graph)\n",
    "            plt.subplots_adjust(top=6, bottom =0.1)\n",
    "            plt.xlim(0,90)\n",
    "            plt.xlabel(\"days\")\n",
    "            plt.ylabel(\"trips per day\")\n",
    "            plt.title(\"This is station {}, and it is neighbor #{} for station {}\".format(s_id, num, k))\n",
    "            ts = days_count(qtr, s_id)\n",
    "            plt.plot(ts[:,0],ts[:,1])\n",
    "            num+=1\n",
    "            graph+=1\n",
    "#             ARIMA_pred(ts)"
   ]
  },
  {
   "cell_type": "code",
   "execution_count": null,
   "metadata": {},
   "outputs": [],
   "source": []
  },
  {
   "cell_type": "code",
   "execution_count": null,
   "metadata": {},
   "outputs": [],
   "source": []
  },
  {
   "cell_type": "code",
   "execution_count": null,
   "metadata": {},
   "outputs": [],
   "source": []
  },
  {
   "cell_type": "code",
   "execution_count": null,
   "metadata": {},
   "outputs": [],
   "source": []
  },
  {
   "cell_type": "code",
   "execution_count": null,
   "metadata": {},
   "outputs": [],
   "source": []
  },
  {
   "cell_type": "code",
   "execution_count": null,
   "metadata": {},
   "outputs": [],
   "source": []
  },
  {
   "cell_type": "code",
   "execution_count": null,
   "metadata": {},
   "outputs": [],
   "source": []
  },
  {
   "cell_type": "code",
   "execution_count": null,
   "metadata": {},
   "outputs": [],
   "source": []
  },
  {
   "cell_type": "code",
   "execution_count": null,
   "metadata": {},
   "outputs": [],
   "source": []
  },
  {
   "cell_type": "code",
   "execution_count": 31,
   "metadata": {},
   "outputs": [],
   "source": [
    "# #Print MSE to see how good the model is\n",
    "# Error = mean_squared_error(TestData, Predictions)\n",
    "# print('Test Mean Squared Error (smaller the better fit): %.3f' % Error)\n",
    "# # plot\n",
    "# pyplot.plot(TestData)\n",
    "# pyplot.plot(Predictions, color='red')\n",
    "# pyplot.show()"
   ]
  },
  {
   "cell_type": "code",
   "execution_count": null,
   "metadata": {},
   "outputs": [],
   "source": []
  },
  {
   "cell_type": "code",
   "execution_count": null,
   "metadata": {},
   "outputs": [],
   "source": []
  },
  {
   "cell_type": "code",
   "execution_count": 32,
   "metadata": {},
   "outputs": [],
   "source": [
    "# #in a for loop, predict values using ARIMA model\n",
    "# for timepoint in range(len(TestData)):\n",
    "#     ActualValue =  TestData[timepoint]\n",
    "#     #forcast value\n",
    "#     Prediction = StartARIMAForecasting(Actual, 3,1,0)    \n",
    "#     print('Actual=%f, Predicted=%f' % (ActualValue, Prediction))\n",
    "#     Predictions.append(Prediction)\n",
    "#     Actual.append(ActualValue)"
   ]
  },
  {
   "cell_type": "code",
   "execution_count": null,
   "metadata": {},
   "outputs": [],
   "source": []
  },
  {
   "cell_type": "code",
   "execution_count": null,
   "metadata": {
    "scrolled": true
   },
   "outputs": [],
   "source": []
  },
  {
   "cell_type": "code",
   "execution_count": null,
   "metadata": {},
   "outputs": [],
   "source": []
  },
  {
   "cell_type": "code",
   "execution_count": null,
   "metadata": {},
   "outputs": [],
   "source": []
  },
  {
   "cell_type": "code",
   "execution_count": null,
   "metadata": {},
   "outputs": [],
   "source": []
  }
 ],
 "metadata": {
  "kernelspec": {
   "display_name": "Python 3",
   "language": "python",
   "name": "python3"
  },
  "language_info": {
   "codemirror_mode": {
    "name": "ipython",
    "version": 3
   },
   "file_extension": ".py",
   "mimetype": "text/x-python",
   "name": "python",
   "nbconvert_exporter": "python",
   "pygments_lexer": "ipython3",
   "version": "3.6.8"
  }
 },
 "nbformat": 4,
 "nbformat_minor": 2
}
