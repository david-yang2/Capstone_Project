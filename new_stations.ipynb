{
 "cells": [
  {
   "cell_type": "code",
   "execution_count": 1,
   "metadata": {},
   "outputs": [],
   "source": [
    "import pandas as pd\n",
    "import numpy as np\n",
    "import matplotlib.pyplot as plt"
   ]
  },
  {
   "cell_type": "code",
   "execution_count": null,
   "metadata": {},
   "outputs": [],
   "source": []
  },
  {
   "cell_type": "code",
   "execution_count": null,
   "metadata": {},
   "outputs": [],
   "source": []
  },
  {
   "cell_type": "code",
   "execution_count": 2,
   "metadata": {},
   "outputs": [],
   "source": [
    "def model_city(df, city = 1):\n",
    "    '''\n",
    "    Breaks the dataset into 3 cities\n",
    "    SF = 1\n",
    "    OAK = 2\n",
    "    SJ = 3\n",
    "\n",
    "    INPUT: DataFrame\n",
    "           Number for city to be modeled\n",
    "    OUTPUT: returns a portion of the original dataframe\n",
    "    ''' \n",
    "    if city == 1:\n",
    "        return df[(df.end_station_latitude > 37.697799) & (df.end_station_longitude <-122.330676)]\n",
    "    elif city == 2:\n",
    "        return df[(df.end_station_latitude > 37.697799) & (df.end_station_longitude >-122.330676)]\n",
    "    elif city == 3:\n",
    "        return df[df.end_station_latitude < 37.697799]\n",
    "    \n",
    "def unique_stations(df):\n",
    "    '''\n",
    "    Given a dataframe, identify the unique start/end stations\n",
    "    \n",
    "    INPUT: DataFrame\n",
    "    OUTPUT: 1 array of unique start station ids\n",
    "  \n",
    "    '''\n",
    "    #names of each start station and the number of trips \n",
    "    lst_start_station_name = df.start_station_name.value_counts()\n",
    "    #ids of each start station and the number of trips \n",
    "    lst_start_station_id = df.start_station_id.value_counts()\n",
    "    num_unique_stations = lst_start_station_id.unique().size\n",
    "    unique_start_sations = df.start_station_id.unique()\n",
    "    unique_end_stations = df.end_station_id.unique()\n",
    "    return unique_start_sations\n",
    "\n",
    "\n",
    "\n",
    "\n",
    "\n",
    "\n",
    "\n",
    "    "
   ]
  },
  {
   "cell_type": "code",
   "execution_count": null,
   "metadata": {},
   "outputs": [],
   "source": []
  },
  {
   "cell_type": "code",
   "execution_count": 3,
   "metadata": {},
   "outputs": [
    {
     "data": {
      "text/plain": [
       "array([  3,   4,   5,   6,   8,   9,  10,  11,  13,  14,  15,  16,  17,\n",
       "        19,  20,  21,  22,  23,  24,  25,  26,  27,  28,  29,  30,  31,\n",
       "        33,  34,  36,  37,  39,  41,  42,  43,  44,  45,  47,  49,  52,\n",
       "        53,  55,  56,  58,  59,  60,  61,  62,  63,  64,  66,  67,  70,\n",
       "        71,  72,  73,  74,  75,  76,  77,  78,  79,  80,  81,  84,  85,\n",
       "        86,  88,  89,  90,  93,  95,  96,  97,  98,  99, 100, 101, 102,\n",
       "       105, 106, 107, 108, 109, 110, 112, 113, 114, 115, 116, 118, 119,\n",
       "       120, 121, 122, 123, 124, 125, 126, 127, 129, 130, 132, 133, 134,\n",
       "       137, 138, 139, 140, 141, 144, 145, 146, 147, 148, 155, 163, 223,\n",
       "       284, 285, 321, 323, 324, 336, 342, 343])"
      ]
     },
     "execution_count": 3,
     "metadata": {},
     "output_type": "execute_result"
    }
   ],
   "source": [
    "df = pd.read_csv('data/201803-fordgobike-tripdata.csv')\n",
    "mar_18_sf = model_city(df)\n",
    "mar_18= unique_stations(mar_18_sf)\n",
    "np.sort(mar_18)"
   ]
  },
  {
   "cell_type": "code",
   "execution_count": null,
   "metadata": {},
   "outputs": [],
   "source": []
  },
  {
   "cell_type": "code",
   "execution_count": 4,
   "metadata": {},
   "outputs": [
    {
     "data": {
      "text/plain": [
       "array([  3,   4,   5,   6,   7,   8,   9,  10,  11,  13,  14,  15,  16,\n",
       "        17,  19,  20,  21,  22,  23,  24,  25,  26,  27,  28,  29,  30,\n",
       "        31,  33,  34,  36,  37,  39,  41,  42,  43,  44,  45,  47,  49,\n",
       "        50,  52,  53,  55,  56,  58,  59,  60,  61,  62,  63,  64,  66,\n",
       "        67,  70,  71,  72,  73,  74,  75,  76,  77,  78,  79,  80,  81,\n",
       "        84,  85,  86,  88,  89,  90,  93,  95,  96,  97,  98,  99, 100,\n",
       "       101, 102, 105, 106, 107, 108, 109, 110, 112, 113, 114, 115, 116,\n",
       "       118, 119, 120, 121, 122, 123, 124, 125, 126, 127, 129, 130, 132,\n",
       "       133, 134, 137, 138, 139, 140, 141, 144, 145, 146, 147, 223, 230,\n",
       "       231, 239, 284, 285, 321, 323, 324, 336, 342, 343, 344, 345])"
      ]
     },
     "execution_count": 4,
     "metadata": {},
     "output_type": "execute_result"
    }
   ],
   "source": [
    "df = pd.read_csv('data/201804-fordgobike-tripdata.csv')\n",
    "apr_18_sf = model_city(df)\n",
    "apr_18= unique_stations(apr_18_sf)\n",
    "np.sort(apr_18)"
   ]
  },
  {
   "cell_type": "code",
   "execution_count": null,
   "metadata": {},
   "outputs": [],
   "source": []
  },
  {
   "cell_type": "code",
   "execution_count": null,
   "metadata": {},
   "outputs": [],
   "source": []
  },
  {
   "cell_type": "code",
   "execution_count": 5,
   "metadata": {},
   "outputs": [],
   "source": [
    "\n",
    "\n",
    "def new_stn_coords(old_stn, new_stn):\n",
    "    '''\n",
    "    INPUT: 2 lists. 1 list of new station ids\n",
    "                    1 list of old station ids\n",
    "    '''\n",
    "    new_stn = set(new_stn) - set(old_stn)\n",
    "    lst_new = list(new_stn)\n",
    "    return lst_new\n",
    "\n"
   ]
  },
  {
   "cell_type": "code",
   "execution_count": 6,
   "metadata": {
    "scrolled": true
   },
   "outputs": [
    {
     "data": {
      "text/plain": [
       "[230, 231, 7, 239, 50, 344, 345]"
      ]
     },
     "execution_count": 6,
     "metadata": {},
     "output_type": "execute_result"
    }
   ],
   "source": [
    "proposed_stn = new_stn_coords(mar_18, apr_18)\n",
    "proposed_stn"
   ]
  },
  {
   "cell_type": "code",
   "execution_count": null,
   "metadata": {},
   "outputs": [],
   "source": []
  },
  {
   "cell_type": "code",
   "execution_count": 7,
   "metadata": {},
   "outputs": [],
   "source": [
    "def stn_coords(df):\n",
    "    #getting the coordinates from the dataset\n",
    "    coordinates = np.array(df[['start_station_longitude', 'start_station_latitude']])\n",
    "    unique_coords = np.unique(coordinates, axis = 0)\n",
    "    #create a dictionary with\n",
    "    #station id as key\n",
    "    #coordinates for the station id as values\n",
    "    id_coord = {}\n",
    "    for u in unique_coords:\n",
    "        k = df.start_station_id[(df.start_station_longitude == u[0]) &(df.start_station_latitude == u[1])].iloc[0]\n",
    "        id_coord[k] = u\n",
    "    return id_coord\n",
    "\n",
    "\n"
   ]
  },
  {
   "cell_type": "code",
   "execution_count": null,
   "metadata": {},
   "outputs": [],
   "source": []
  },
  {
   "cell_type": "code",
   "execution_count": null,
   "metadata": {},
   "outputs": [],
   "source": []
  },
  {
   "cell_type": "code",
   "execution_count": null,
   "metadata": {},
   "outputs": [],
   "source": []
  },
  {
   "cell_type": "code",
   "execution_count": 8,
   "metadata": {},
   "outputs": [],
   "source": [
    "def plot_new_station(df, new_stn):\n",
    "#     print(\"The origin station is {}.\".format(t))\n",
    "#     print(\"The 3 closest neighbors are: {}, {}, {}\".format(int(knn_dict.get(t)[0]),int(knn_dict.get(t)[1]),int(knn_dict.get(t)[2])))\n",
    "    id_coord = stn_coords(df)\n",
    "    plt.figure(figsize = (10,10))\n",
    "    ll,rr = -122.50, -122.36\n",
    "    bb = 37.73\n",
    "    plt.xlim(ll,rr)\n",
    "    plt.ylim(bb, bb+(rr-ll))\n",
    "    plt.xlabel(\"Longitude\")\n",
    "    plt.ylabel(\"Latitude\")\n",
    "    plt.title(\"Map of Ford GoBike stations at the end of April 2018\")\n",
    "    plt.scatter(df.start_station_longitude, df.start_station_latitude, s=1, c=('r'))\n",
    "    for n in new_stn:\n",
    "#         if id_coord.get(n) is not None:\n",
    "        plt.scatter(id_coord.get(n)[0], id_coord.get(n)[1], s=20, marker='x', c=('b'))\n",
    "#         else:\n",
    "#             print (\"Station {} has been removed.\".format(n))"
   ]
  },
  {
   "cell_type": "code",
   "execution_count": 9,
   "metadata": {},
   "outputs": [
    {
     "data": {
      "image/png": "[encoded data removed]",
      "text/plain": [
       "<Figure size 720x720 with 1 Axes>"
      ]
     },
     "metadata": {
      "needs_background": "light"
     },
     "output_type": "display_data"
    }
   ],
   "source": [
    "plot_new_station(apr_18_sf, proposed_stn)"
   ]
  },
  {
   "cell_type": "code",
   "execution_count": null,
   "metadata": {},
   "outputs": [],
   "source": []
  },
  {
   "cell_type": "code",
   "execution_count": null,
   "metadata": {},
   "outputs": [],
   "source": []
  },
  {
   "cell_type": "code",
   "execution_count": 14,
   "metadata": {},
   "outputs": [],
   "source": [
    "def euclidean_distance(x, y):\n",
    "    return np.sqrt(((x-y)**2).sum(axis=1))"
   ]
  },
  {
   "cell_type": "code",
   "execution_count": 22,
   "metadata": {},
   "outputs": [],
   "source": [
    "def knn_proposed_stn(df, proposed_stn, num_neighbors = 3):\n",
    "    id_coord = stn_coords(df)\n",
    "    coordinates = np.array(df[['start_station_longitude', 'start_station_latitude']])\n",
    "    unique_coords = np.unique(coordinates, axis = 0)\n",
    "    knn_dict = {}\n",
    "    for p in proposed_stn:\n",
    "        neighbors = unique_coords[np.argsort(euclidean_distance(id_coord.get(p), unique_coords))][1:num_neighbors+1]\n",
    "        k = df.start_station_id[(df.start_station_longitude == id_coord.get(p)[0]) &(df.start_station_latitude == id_coord.get(p)[1])].iloc[0]\n",
    "        v = []\n",
    "        for i in range(num_neighbors):\n",
    "            knn_id = df.start_station_id[(df.start_station_longitude == neighbors[i][0]) &(df.start_station_latitude == neighbors[i][1])].iloc[0]\n",
    "            v.append(knn_id)\n",
    "        knn_dict[k] = v\n",
    "    return knn_dict"
   ]
  },
  {
   "cell_type": "code",
   "execution_count": 23,
   "metadata": {},
   "outputs": [
    {
     "data": {
      "text/plain": [
       "{230: [231, 7, 239],\n",
       " 231: [230, 7, 239],\n",
       " 7: [231, 230, 239],\n",
       " 239: [231, 7, 230],\n",
       " 50: [342, 66, 343],\n",
       " 344: [345, 116, 115],\n",
       " 345: [102, 115, 344]}"
      ]
     },
     "execution_count": 23,
     "metadata": {},
     "output_type": "execute_result"
    }
   ],
   "source": [
    "knn_proposed_stn(apr_18_sf, proposed_stn)"
   ]
  },
  {
   "cell_type": "code",
   "execution_count": null,
   "metadata": {},
   "outputs": [],
   "source": []
  },
  {
   "cell_type": "code",
   "execution_count": null,
   "metadata": {},
   "outputs": [],
   "source": []
  },
  {
   "cell_type": "code",
   "execution_count": null,
   "metadata": {},
   "outputs": [],
   "source": []
  },
  {
   "cell_type": "code",
   "execution_count": null,
   "metadata": {},
   "outputs": [],
   "source": [
    "\n"
   ]
  }
 ],
 "metadata": {
  "kernelspec": {
   "display_name": "Python 3",
   "language": "python",
   "name": "python3"
  },
  "language_info": {
   "codemirror_mode": {
    "name": "ipython",
    "version": 3
   },
   "file_extension": ".py",
   "mimetype": "text/x-python",
   "name": "python",
   "nbconvert_exporter": "python",
   "pygments_lexer": "ipython3",
   "version": "3.6.8"
  }
 },
 "nbformat": 4,
 "nbformat_minor": 2
}
