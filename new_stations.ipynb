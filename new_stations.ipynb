{
 "cells": [
  {
   "cell_type": "code",
   "execution_count": 79,
   "metadata": {},
   "outputs": [],
   "source": [
    "import pandas as pd\n",
    "import numpy as np\n",
    "import matplotlib.pyplot as plt"
   ]
  },
  {
   "cell_type": "code",
   "execution_count": null,
   "metadata": {},
   "outputs": [],
   "source": []
  },
  {
   "cell_type": "code",
   "execution_count": null,
   "metadata": {},
   "outputs": [],
   "source": []
  },
  {
   "cell_type": "code",
   "execution_count": 83,
   "metadata": {},
   "outputs": [],
   "source": [
    "def model_city(df, city = 1):\n",
    "    '''\n",
    "    Breaks the dataset into 3 cities\n",
    "    SF = 1\n",
    "    OAK = 2\n",
    "    SJ = 3\n",
    "\n",
    "    INPUT: Dataframe\n",
    "           Number for city to be modeled\n",
    "    OUTPUT: returns a portion of the original dataframe\n",
    "    ''' \n",
    "    if city == 1:\n",
    "        return df[(df.end_station_latitude > 37.697799) & (df.end_station_longitude <-122.330676)]\n",
    "    elif city == 2:\n",
    "        return df[(df.end_station_latitude > 37.697799) & (df.end_station_longitude >-122.330676)]\n",
    "    elif city == 3:\n",
    "        return df[df.end_station_latitude < 37.697799]\n",
    "    \n",
    "def unique_stations(df):\n",
    "    #names of each start station and the number of trips \n",
    "    lst_start_station_name = df.start_station_name.value_counts()\n",
    "    #ids of each start station and the number of trips \n",
    "    lst_start_station_id = df.start_station_id.value_counts()\n",
    "    num_unique_stations = lst_start_station_id.unique().size\n",
    "    unique_start_sations = df.start_station_id.unique()\n",
    "    unique_end_stations = df.end_station_id.unique()\n",
    "    return unique_start_sations\n",
    "\n",
    "def new_stn_coords(old_stn, new_stn):\n",
    "    new_stn = set(new_stn) - set(old_stn)\n",
    "    lst_new = list(new_stn)\n",
    "    return lst_new\n",
    "\n",
    "def stn_coords(df):\n",
    "    #getting the coordinates from the dataset\n",
    "    coordinates = np.array(c_df[['end_station_longitude', 'end_station_latitude']])\n",
    "    unique_coords = np.unique(coordinates, axis = 0)\n",
    "    #create a dictionary with\n",
    "    #station id as key\n",
    "    #coordinates for the station id as values\n",
    "    id_coord = {}\n",
    "    for u in unique_coords:\n",
    "        k = c_df.end_station_id[(c_df.end_station_longitude == u[0]) &(c_df.end_station_latitude == u[1])].iloc[0]\n",
    "        id_coord[k] = u\n",
    "    return id_coord\n",
    "\n",
    "def plot_new_station(df):\n",
    "    \n",
    "    pass"
   ]
  },
  {
   "cell_type": "code",
   "execution_count": null,
   "metadata": {},
   "outputs": [],
   "source": []
  },
  {
   "cell_type": "code",
   "execution_count": 84,
   "metadata": {},
   "outputs": [
    {
     "data": {
      "text/plain": [
       "array([  4,  78,  98,  11,  58, 321,  16, 134, 223,  85, 133,   3, 146,\n",
       "       125,  47, 120,  75, 121,  56,  96,  93,  53, 126, 127, 324, 106,\n",
       "        27,  15,  19,  10, 110,  29,  45, 284,  52,  72, 129,   5,  60,\n",
       "        67,  44, 323,  70,  41,  14, 113, 114,  34,  62, 122,   8,  71,\n",
       "         6,  42, 141,  90, 119,  99,  74,  43,  31,  86, 109,  55, 107,\n",
       "        88,  73, 138,  63,  61,  21, 102, 336,  95,  20,  76,  17, 285,\n",
       "        36,  81,  64,   9,  13,  28, 137, 139,  89,  30,  66, 105,  39,\n",
       "       108,  84, 112,  79, 118, 124, 130, 116,  97, 342, 144,  26,  23,\n",
       "        49,  77,  59, 100, 343,  25,  80, 115, 147, 140, 123, 145, 101,\n",
       "       132,  22,  24,  33,  37, 148, 155, 163])"
      ]
     },
     "execution_count": 84,
     "metadata": {},
     "output_type": "execute_result"
    }
   ],
   "source": [
    "df = pd.read_csv('data/201803-fordgobike-tripdata.csv')\n",
    "mar_18_sf = model_city(df)\n",
    "mar_18= unique_stations(mar_18_sf)\n",
    "mar_18"
   ]
  },
  {
   "cell_type": "code",
   "execution_count": null,
   "metadata": {},
   "outputs": [],
   "source": []
  },
  {
   "cell_type": "code",
   "execution_count": 85,
   "metadata": {},
   "outputs": [
    {
     "data": {
      "text/plain": [
       "array([  4, 122,  41, 284,  21,  71,  24,  36, 114, 137,   5,  49, 145,\n",
       "        30,  58,  50,  64, 107,   3,  84, 109,  56,  11,  81, 130,  89,\n",
       "        66,  28,  53,  14,  31, 133, 106,  47,  59,  22,  98,  60,  67,\n",
       "        44,  55, 127, 141, 324,  97,  77,  70,  19,  95, 343,  93, 223,\n",
       "       118,  86,  73, 125, 110, 323, 124,  17, 345,  15, 112,  33, 113,\n",
       "        80, 129, 126, 336, 120,  88,  75, 115, 123, 102, 144,  16,   8,\n",
       "       100,  20, 132,  10,   9, 119,  45,  99,  76,  90, 134,  39,   6,\n",
       "       121, 105,  78,  85, 147,  79,  43, 139, 146, 108, 285,  61,  42,\n",
       "        96,  37, 116,  26,  25,  63, 321,  27,  74, 138, 101,  13,  29,\n",
       "        62,  23,  52,  34,  72, 140, 344, 239, 231, 342,   7, 230])"
      ]
     },
     "execution_count": 85,
     "metadata": {},
     "output_type": "execute_result"
    }
   ],
   "source": [
    "df = pd.read_csv('data/201804-fordgobike-tripdata.csv')\n",
    "apr_18_sf = model_city(df)\n",
    "apr_18= unique_stations(apr_18_sf)\n",
    "apr_18"
   ]
  },
  {
   "cell_type": "code",
   "execution_count": 86,
   "metadata": {},
   "outputs": [
    {
     "data": {
      "text/plain": [
       "{7, 50, 230, 231, 239, 344, 345}"
      ]
     },
     "execution_count": 86,
     "metadata": {},
     "output_type": "execute_result"
    }
   ],
   "source": [
    "new_stn = set(apr_18) - set(mar_18)\n",
    "new_stn"
   ]
  },
  {
   "cell_type": "code",
   "execution_count": 87,
   "metadata": {
    "scrolled": true
   },
   "outputs": [
    {
     "data": {
      "text/plain": [
       "[230, 231, 7, 239, 50, 344, 345]"
      ]
     },
     "execution_count": 87,
     "metadata": {},
     "output_type": "execute_result"
    }
   ],
   "source": [
    "new_stn_coords(mar_18, apr_18)"
   ]
  },
  {
   "cell_type": "code",
   "execution_count": null,
   "metadata": {},
   "outputs": [],
   "source": []
  },
  {
   "cell_type": "code",
   "execution_count": null,
   "metadata": {},
   "outputs": [],
   "source": []
  },
  {
   "cell_type": "code",
   "execution_count": null,
   "metadata": {},
   "outputs": [],
   "source": []
  },
  {
   "cell_type": "code",
   "execution_count": null,
   "metadata": {},
   "outputs": [],
   "source": []
  },
  {
   "cell_type": "code",
   "execution_count": null,
   "metadata": {},
   "outputs": [],
   "source": []
  },
  {
   "cell_type": "code",
   "execution_count": null,
   "metadata": {},
   "outputs": [],
   "source": []
  },
  {
   "cell_type": "code",
   "execution_count": null,
   "metadata": {},
   "outputs": [],
   "source": []
  },
  {
   "cell_type": "code",
   "execution_count": null,
   "metadata": {},
   "outputs": [],
   "source": []
  },
  {
   "cell_type": "code",
   "execution_count": null,
   "metadata": {},
   "outputs": [],
   "source": []
  },
  {
   "cell_type": "code",
   "execution_count": null,
   "metadata": {},
   "outputs": [],
   "source": [
    "\n"
   ]
  }
 ],
 "metadata": {
  "kernelspec": {
   "display_name": "Python 3",
   "language": "python",
   "name": "python3"
  },
  "language_info": {
   "codemirror_mode": {
    "name": "ipython",
    "version": 3
   },
   "file_extension": ".py",
   "mimetype": "text/x-python",
   "name": "python",
   "nbconvert_exporter": "python",
   "pygments_lexer": "ipython3",
   "version": "3.6.8"
  }
 },
 "nbformat": 4,
 "nbformat_minor": 2
}
