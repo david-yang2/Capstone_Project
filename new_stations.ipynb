{
 "cells": [
  {
   "cell_type": "code",
   "execution_count": 1,
   "metadata": {},
   "outputs": [],
   "source": [
    "import pandas as pd\n",
    "import numpy as np\n",
    "import matplotlib.pyplot as plt\n",
    "from get_features import *"
   ]
  },
  {
   "cell_type": "code",
   "execution_count": null,
   "metadata": {},
   "outputs": [],
   "source": []
  },
  {
   "cell_type": "code",
   "execution_count": null,
   "metadata": {},
   "outputs": [],
   "source": []
  },
  {
   "cell_type": "code",
   "execution_count": 2,
   "metadata": {},
   "outputs": [],
   "source": [
    "def unique_stations(df):\n",
    "    '''\n",
    "    Given a dataframe, identify the unique start/end stations\n",
    "    \n",
    "    INPUT: DataFrame\n",
    "    OUTPUT: 1 array of unique start station ids\n",
    "  \n",
    "    '''\n",
    "    #names of each start station and the number of trips \n",
    "    lst_start_station_name = df.start_station_name.value_counts()\n",
    "    \n",
    "    #ids of each start station and the number of trips \n",
    "    lst_start_station_id = df.start_station_id.value_counts()\n",
    "    num_unique_stations = lst_start_station_id.unique().size\n",
    "    unique_start_sations = df.start_station_id.unique()\n",
    "    unique_end_stations = df.end_station_id.unique()\n",
    "    return unique_start_sations\n",
    "    "
   ]
  },
  {
   "cell_type": "code",
   "execution_count": null,
   "metadata": {},
   "outputs": [],
   "source": []
  },
  {
   "cell_type": "code",
   "execution_count": null,
   "metadata": {},
   "outputs": [],
   "source": [
    "df = pd.read_csv('data/201803-fordgobike-tripdata.csv')\n",
    "mar_18_sf = model_city(df)\n",
    "mar_18= unique_stations(mar_18_sf)\n",
    "np.sort(mar_18)"
   ]
  },
  {
   "cell_type": "code",
   "execution_count": null,
   "metadata": {},
   "outputs": [],
   "source": []
  },
  {
   "cell_type": "code",
   "execution_count": null,
   "metadata": {},
   "outputs": [],
   "source": [
    "df = pd.read_csv('data/201804-fordgobike-tripdata.csv')\n",
    "apr_18_sf = model_city(df)\n",
    "apr_18= unique_stations(apr_18_sf)\n",
    "np.sort(apr_18)"
   ]
  },
  {
   "cell_type": "code",
   "execution_count": null,
   "metadata": {},
   "outputs": [],
   "source": []
  },
  {
   "cell_type": "code",
   "execution_count": null,
   "metadata": {},
   "outputs": [],
   "source": []
  },
  {
   "cell_type": "code",
   "execution_count": 3,
   "metadata": {},
   "outputs": [],
   "source": [
    "def new_stn_ids(old_stn, new_stn):\n",
    "    '''\n",
    "    INPUT: 2 lists. 1 list of new station ids\n",
    "                    1 list of old station ids\n",
    "    '''\n",
    "    new_stn = set(new_stn) - set(old_stn)\n",
    "    lst_new = list(new_stn)\n",
    "    return lst_new\n",
    "\n"
   ]
  },
  {
   "cell_type": "code",
   "execution_count": null,
   "metadata": {
    "scrolled": true
   },
   "outputs": [],
   "source": [
    "proposed_stn = new_stn_ids(mar_18, apr_18)\n",
    "proposed_stn"
   ]
  },
  {
   "cell_type": "code",
   "execution_count": 4,
   "metadata": {},
   "outputs": [],
   "source": [
    "df_2017 = pd.read_csv('data/2017-fordgobike-tripdata.csv')\n",
    "df_2017 = feature_addition(df_2017)\n"
   ]
  },
  {
   "cell_type": "code",
   "execution_count": 68,
   "metadata": {},
   "outputs": [],
   "source": [
    "df = pd.read_csv('data/2018-2019-fordgobike-tripdata.csv')"
   ]
  },
  {
   "cell_type": "code",
   "execution_count": null,
   "metadata": {},
   "outputs": [],
   "source": []
  },
  {
   "cell_type": "code",
   "execution_count": 69,
   "metadata": {},
   "outputs": [],
   "source": [
    "df = feature_addition(df)"
   ]
  },
  {
   "cell_type": "code",
   "execution_count": 33,
   "metadata": {},
   "outputs": [],
   "source": [
    "df_2018 = pd.read_csv('data/201804-fordgobike-tripdata.csv')\n",
    "df_2018 = feature_addition(df_2018)"
   ]
  },
  {
   "cell_type": "code",
   "execution_count": 5,
   "metadata": {},
   "outputs": [],
   "source": [
    "#separate the months\n",
    "#cdf will be current month\n",
    "#ndf will be next month\n",
    "cdf = month_sep(df_2017, 2017, 11)\n",
    "ndf = month_sep(df_2017, 2017, 12)"
   ]
  },
  {
   "cell_type": "code",
   "execution_count": null,
   "metadata": {},
   "outputs": [],
   "source": []
  },
  {
   "cell_type": "code",
   "execution_count": 7,
   "metadata": {},
   "outputs": [],
   "source": [
    "#find the unique stations for each month\n",
    "cus = unique_stations(cdf)\n",
    "nus = unique_stations(ndf)"
   ]
  },
  {
   "cell_type": "code",
   "execution_count": null,
   "metadata": {},
   "outputs": [],
   "source": []
  },
  {
   "cell_type": "code",
   "execution_count": null,
   "metadata": {},
   "outputs": [],
   "source": []
  },
  {
   "cell_type": "code",
   "execution_count": 8,
   "metadata": {},
   "outputs": [],
   "source": [
    "#list of proposed stations\n",
    "#stations opened in next month but not in current month\n",
    "ps = new_stn_ids(cus, nus)"
   ]
  },
  {
   "cell_type": "code",
   "execution_count": 9,
   "metadata": {},
   "outputs": [
    {
     "data": {
      "text/plain": [
       "[258, 292, 293, 294, 263, 267, 268, 237, 269, 337, 338, 339, 340, 254]"
      ]
     },
     "execution_count": 9,
     "metadata": {},
     "output_type": "execute_result"
    }
   ],
   "source": [
    "ps"
   ]
  },
  {
   "cell_type": "code",
   "execution_count": null,
   "metadata": {},
   "outputs": [],
   "source": []
  },
  {
   "cell_type": "code",
   "execution_count": null,
   "metadata": {},
   "outputs": [],
   "source": []
  },
  {
   "cell_type": "code",
   "execution_count": 10,
   "metadata": {},
   "outputs": [],
   "source": [
    "def stn_id_coords(df):\n",
    "    #getting the coordinates from the dataset\n",
    "    coordinates = np.array(df[['start_station_longitude', 'start_station_latitude']])\n",
    "    unique_coords = np.unique(coordinates, axis = 0)\n",
    "    #create a dictionary with\n",
    "    #station id as key\n",
    "    #coordinates for the station id as values\n",
    "    id_coord = {}\n",
    "    for u in unique_coords:\n",
    "        k = df.start_station_id[(df.start_station_longitude == u[0]) &(df.start_station_latitude == u[1])].iloc[0]\n",
    "        id_coord[k] = u\n",
    "    return id_coord\n",
    "\n",
    "\n"
   ]
  },
  {
   "cell_type": "code",
   "execution_count": null,
   "metadata": {},
   "outputs": [],
   "source": []
  },
  {
   "cell_type": "code",
   "execution_count": null,
   "metadata": {},
   "outputs": [],
   "source": []
  },
  {
   "cell_type": "code",
   "execution_count": null,
   "metadata": {},
   "outputs": [],
   "source": []
  },
  {
   "cell_type": "code",
   "execution_count": 14,
   "metadata": {},
   "outputs": [],
   "source": [
    "def plot_new_station(df, new_stn):\n",
    "#     print(\"The origin station is {}.\".format(t))\n",
    "#     print(\"The 3 closest neighbors are: {}, {}, {}\".format(int(knn_dict.get(t)[0]),int(knn_dict.get(t)[1]),int(knn_dict.get(t)[2])))\n",
    "    id_coord = stn_id_coords(df)\n",
    "    plt.figure(figsize = (10,10))\n",
    "    ll,rr = -122.50, -122.36\n",
    "    bb = 37.73\n",
    "    plt.xlim(ll,rr)\n",
    "    plt.ylim(bb, bb+(rr-ll))\n",
    "    plt.xlabel(\"Longitude\")\n",
    "    plt.ylabel(\"Latitude\")\n",
    "    plt.title(\"Map of Ford GoBike stations at the end of April 2018\")\n",
    "    plt.scatter(df.start_station_longitude, df.start_station_latitude, s=1, c=('r'))\n",
    "    for n in new_stn:\n",
    "#         if id_coord.get(n) is not None:\n",
    "        plt.scatter(id_coord.get(n)[0], id_coord.get(n)[1], s=20, marker='x', c=('b'))\n",
    "#         else:\n",
    "#             print (\"Station {} has been removed.\".format(n))"
   ]
  },
  {
   "cell_type": "code",
   "execution_count": 15,
   "metadata": {},
   "outputs": [
    {
     "data": {
      "image/png": "[encoded data removed]",
      "text/plain": [
       "<Figure size 720x720 with 1 Axes>"
      ]
     },
     "metadata": {
      "needs_background": "light"
     },
     "output_type": "display_data"
    }
   ],
   "source": [
    "plot_new_station(ndf, ps)"
   ]
  },
  {
   "cell_type": "code",
   "execution_count": 16,
   "metadata": {},
   "outputs": [
    {
     "data": {
      "text/plain": [
       "[258, 292, 293, 294, 263, 267, 268, 237, 269, 337, 338, 339, 340, 254]"
      ]
     },
     "execution_count": 16,
     "metadata": {},
     "output_type": "execute_result"
    }
   ],
   "source": [
    "ps"
   ]
  },
  {
   "cell_type": "code",
   "execution_count": null,
   "metadata": {},
   "outputs": [],
   "source": []
  },
  {
   "cell_type": "code",
   "execution_count": null,
   "metadata": {},
   "outputs": [],
   "source": []
  },
  {
   "cell_type": "markdown",
   "metadata": {},
   "source": [
    "### Use knn to pick stations from current month that are closest to each proposed station"
   ]
  },
  {
   "cell_type": "code",
   "execution_count": null,
   "metadata": {},
   "outputs": [],
   "source": []
  },
  {
   "cell_type": "code",
   "execution_count": 21,
   "metadata": {},
   "outputs": [],
   "source": [
    "def euclidean_distance(x, y):\n",
    "    return np.sqrt(((x-y)**2).sum(axis=1))"
   ]
  },
  {
   "cell_type": "code",
   "execution_count": 22,
   "metadata": {},
   "outputs": [],
   "source": [
    "def knn_proposed_stn(df, df2, proposed_stn, num_neighbors = 3):\n",
    "    \n",
    "\n",
    "    coordinates = np.array(df[['start_station_longitude', 'start_station_latitude']])\n",
    "    unique_coords = np.unique(coordinates, axis = 0)\n",
    "    #get the id and coords for current month\n",
    "    id_coord_df = stn_id_coords(df)\n",
    "    id_coord_df2 = stn_id_coords(df2)\n",
    "    knn_dict = {}\n",
    "    for p in proposed_stn:\n",
    "        neighbors = unique_coords[np.argsort(euclidean_distance(id_coord_df2.get(p), unique_coords))][1:num_neighbors+1]\n",
    "#         k = df.start_station_id[(df.start_station_longitude == id_coord_df2.get(p)[0]) &(df.start_station_latitude == id_coord_df2.get(p)[1])].iloc[0]\n",
    "        v = []\n",
    "        for i in range(num_neighbors):\n",
    "            knn_id = df.start_station_id[(df.start_station_longitude == neighbors[i][0]) &(df.start_station_latitude == neighbors[i][1])].iloc[0]\n",
    "            v.append(knn_id)\n",
    "        knn_dict[p] = v\n",
    "    return knn_dict"
   ]
  },
  {
   "cell_type": "code",
   "execution_count": 23,
   "metadata": {},
   "outputs": [
    {
     "data": {
      "text/plain": [
       "{258: [244, 247, 246],\n",
       " 292: [290, 304, 289],\n",
       " 293: [307, 308, 283],\n",
       " 294: [287, 327, 208],\n",
       " 263: [270, 259, 251],\n",
       " 267: [240, 243, 248],\n",
       " 268: [266, 274, 18],\n",
       " 237: [228, 227, 226],\n",
       " 269: [266, 248, 239],\n",
       " 337: [182, 183, 181],\n",
       " 338: [162, 202, 183],\n",
       " 339: [186, 201, 162],\n",
       " 340: [169, 188, 274],\n",
       " 254: [238, 245, 246]}"
      ]
     },
     "execution_count": 23,
     "metadata": {},
     "output_type": "execute_result"
    }
   ],
   "source": [
    "knn_proposed_stn(cdf, ndf, ps)"
   ]
  },
  {
   "cell_type": "code",
   "execution_count": null,
   "metadata": {},
   "outputs": [],
   "source": []
  },
  {
   "cell_type": "code",
   "execution_count": null,
   "metadata": {},
   "outputs": [],
   "source": []
  },
  {
   "cell_type": "markdown",
   "metadata": {},
   "source": [
    "### Time series by day"
   ]
  },
  {
   "cell_type": "code",
   "execution_count": 36,
   "metadata": {},
   "outputs": [],
   "source": [
    "#3 month history for specific station\n",
    "#current month and 2 previous month\n",
    "cm = cdf.month.unique()[0]\n",
    "tsdf = df_2017[(df_2017.month <=cm) & (df_2017.month>cm-3)]\n"
   ]
  },
  {
   "cell_type": "code",
   "execution_count": 37,
   "metadata": {},
   "outputs": [
    {
     "data": {
      "text/html": [
       "<div>\n",
       "<style scoped>\n",
       "    .dataframe tbody tr th:only-of-type {\n",
       "        vertical-align: middle;\n",
       "    }\n",
       "\n",
       "    .dataframe tbody tr th {\n",
       "        vertical-align: top;\n",
       "    }\n",
       "\n",
       "    .dataframe thead th {\n",
       "        text-align: right;\n",
       "    }\n",
       "</style>\n",
       "<table border=\"1\" class=\"dataframe\">\n",
       "  <thead>\n",
       "    <tr style=\"text-align: right;\">\n",
       "      <th></th>\n",
       "      <th>duration_sec</th>\n",
       "      <th>start_time</th>\n",
       "      <th>end_time</th>\n",
       "      <th>start_station_id</th>\n",
       "      <th>start_station_name</th>\n",
       "      <th>start_station_latitude</th>\n",
       "      <th>start_station_longitude</th>\n",
       "      <th>end_station_id</th>\n",
       "      <th>end_station_name</th>\n",
       "      <th>end_station_latitude</th>\n",
       "      <th>...</th>\n",
       "      <th>member_birth_year</th>\n",
       "      <th>member_gender</th>\n",
       "      <th>day_of_week</th>\n",
       "      <th>date</th>\n",
       "      <th>year</th>\n",
       "      <th>month</th>\n",
       "      <th>day</th>\n",
       "      <th>hour</th>\n",
       "      <th>malfunction</th>\n",
       "      <th>age</th>\n",
       "    </tr>\n",
       "  </thead>\n",
       "  <tbody>\n",
       "    <tr>\n",
       "      <th>83695</th>\n",
       "      <td>76635</td>\n",
       "      <td>2017-11-30 19:54:03.465</td>\n",
       "      <td>2017-12-01 17:11:19.3150</td>\n",
       "      <td>120</td>\n",
       "      <td>Mission Dolores Park</td>\n",
       "      <td>37.76142</td>\n",
       "      <td>-122.426435</td>\n",
       "      <td>28</td>\n",
       "      <td>The Embarcadero at Bryant St</td>\n",
       "      <td>37.787168</td>\n",
       "      <td>...</td>\n",
       "      <td>NaN</td>\n",
       "      <td>NaN</td>\n",
       "      <td>3</td>\n",
       "      <td>2017-11-30</td>\n",
       "      <td>2017</td>\n",
       "      <td>11</td>\n",
       "      <td>30</td>\n",
       "      <td>19</td>\n",
       "      <td>False</td>\n",
       "      <td>NaN</td>\n",
       "    </tr>\n",
       "    <tr>\n",
       "      <th>84835</th>\n",
       "      <td>58723</td>\n",
       "      <td>2017-11-30 19:53:27.124</td>\n",
       "      <td>2017-12-01 12:12:10.2220</td>\n",
       "      <td>120</td>\n",
       "      <td>Mission Dolores Park</td>\n",
       "      <td>37.76142</td>\n",
       "      <td>-122.426435</td>\n",
       "      <td>44</td>\n",
       "      <td>Civic Center/UN Plaza BART Station (Market St ...</td>\n",
       "      <td>37.781074</td>\n",
       "      <td>...</td>\n",
       "      <td>NaN</td>\n",
       "      <td>NaN</td>\n",
       "      <td>3</td>\n",
       "      <td>2017-11-30</td>\n",
       "      <td>2017</td>\n",
       "      <td>11</td>\n",
       "      <td>30</td>\n",
       "      <td>19</td>\n",
       "      <td>False</td>\n",
       "      <td>NaN</td>\n",
       "    </tr>\n",
       "  </tbody>\n",
       "</table>\n",
       "<p>2 rows × 23 columns</p>\n",
       "</div>"
      ],
      "text/plain": [
       "       duration_sec              start_time                  end_time  \\\n",
       "83695         76635 2017-11-30 19:54:03.465  2017-12-01 17:11:19.3150   \n",
       "84835         58723 2017-11-30 19:53:27.124  2017-12-01 12:12:10.2220   \n",
       "\n",
       "       start_station_id    start_station_name  start_station_latitude  \\\n",
       "83695               120  Mission Dolores Park                37.76142   \n",
       "84835               120  Mission Dolores Park                37.76142   \n",
       "\n",
       "       start_station_longitude  end_station_id  \\\n",
       "83695              -122.426435              28   \n",
       "84835              -122.426435              44   \n",
       "\n",
       "                                        end_station_name  \\\n",
       "83695                       The Embarcadero at Bryant St   \n",
       "84835  Civic Center/UN Plaza BART Station (Market St ...   \n",
       "\n",
       "       end_station_latitude  ...  member_birth_year  member_gender  \\\n",
       "83695             37.787168  ...                NaN            NaN   \n",
       "84835             37.781074  ...                NaN            NaN   \n",
       "\n",
       "      day_of_week        date  year  month day  hour  malfunction  age  \n",
       "83695           3  2017-11-30  2017     11  30    19        False  NaN  \n",
       "84835           3  2017-11-30  2017     11  30    19        False  NaN  \n",
       "\n",
       "[2 rows x 23 columns]"
      ]
     },
     "execution_count": 37,
     "metadata": {},
     "output_type": "execute_result"
    }
   ],
   "source": [
    "tsdf.head(2)"
   ]
  },
  {
   "cell_type": "code",
   "execution_count": 38,
   "metadata": {},
   "outputs": [],
   "source": [
    "months = np.sort(tsdf.month.unique())"
   ]
  },
  {
   "cell_type": "code",
   "execution_count": 39,
   "metadata": {},
   "outputs": [
    {
     "data": {
      "text/plain": [
       "array([ 9, 10, 11])"
      ]
     },
     "execution_count": 39,
     "metadata": {},
     "output_type": "execute_result"
    }
   ],
   "source": [
    "months"
   ]
  },
  {
   "cell_type": "code",
   "execution_count": 40,
   "metadata": {},
   "outputs": [
    {
     "data": {
      "text/plain": [
       "array([0.])"
      ]
     },
     "execution_count": 40,
     "metadata": {},
     "output_type": "execute_result"
    }
   ],
   "source": [
    "days = np.zeros(1)\n",
    "days"
   ]
  },
  {
   "cell_type": "code",
   "execution_count": 41,
   "metadata": {},
   "outputs": [],
   "source": [
    "for idx, mon in enumerate(months):\n",
    "    mult = idx+1\n",
    "    "
   ]
  },
  {
   "cell_type": "code",
   "execution_count": 42,
   "metadata": {},
   "outputs": [
    {
     "name": "stderr",
     "output_type": "stream",
     "text": [
      "/anaconda3/lib/python3.6/site-packages/ipykernel_launcher.py:1: SettingWithCopyWarning: \n",
      "A value is trying to be set on a copy of a slice from a DataFrame.\n",
      "Try using .loc[row_indexer,col_indexer] = value instead\n",
      "\n",
      "See the caveats in the documentation: http://pandas.pydata.org/pandas-docs/stable/indexing.html#indexing-view-versus-copy\n",
      "  \"\"\"Entry point for launching an IPython kernel.\n"
     ]
    }
   ],
   "source": [
    "tsdf['days'] = 1"
   ]
  },
  {
   "cell_type": "code",
   "execution_count": 43,
   "metadata": {},
   "outputs": [
    {
     "name": "stderr",
     "output_type": "stream",
     "text": [
      "/anaconda3/lib/python3.6/site-packages/ipykernel_launcher.py:1: SettingWithCopyWarning: \n",
      "A value is trying to be set on a copy of a slice from a DataFrame\n",
      "\n",
      "See the caveats in the documentation: http://pandas.pydata.org/pandas-docs/stable/indexing.html#indexing-view-versus-copy\n",
      "  \"\"\"Entry point for launching an IPython kernel.\n"
     ]
    }
   ],
   "source": [
    "tsdf['days'][tsdf.month == 11] = tsdf.day * 2"
   ]
  },
  {
   "cell_type": "code",
   "execution_count": 44,
   "metadata": {},
   "outputs": [],
   "source": [
    "def days_for_ts(df, cdf):\n",
    "    cm = cdf.month.unique()[0]\n",
    "    tsdf = df_2017[(df_2017.month <=cm) & (df_2017.month>cm-3)]\n",
    "    tsdf['days'] = 1\n",
    "    months = np.sort(tsdf.month.unique())\n",
    "    for idx, mon in enumerate(months):\n",
    "        mult = idx+1\n",
    "        tsdf['days'][tsdf.month == mon] = tsdf.day * mult\n",
    "    return tsdf"
   ]
  },
  {
   "cell_type": "code",
   "execution_count": 45,
   "metadata": {},
   "outputs": [
    {
     "name": "stderr",
     "output_type": "stream",
     "text": [
      "/anaconda3/lib/python3.6/site-packages/ipykernel_launcher.py:4: SettingWithCopyWarning: \n",
      "A value is trying to be set on a copy of a slice from a DataFrame.\n",
      "Try using .loc[row_indexer,col_indexer] = value instead\n",
      "\n",
      "See the caveats in the documentation: http://pandas.pydata.org/pandas-docs/stable/indexing.html#indexing-view-versus-copy\n",
      "  after removing the cwd from sys.path.\n",
      "/anaconda3/lib/python3.6/site-packages/ipykernel_launcher.py:8: SettingWithCopyWarning: \n",
      "A value is trying to be set on a copy of a slice from a DataFrame\n",
      "\n",
      "See the caveats in the documentation: http://pandas.pydata.org/pandas-docs/stable/indexing.html#indexing-view-versus-copy\n",
      "  \n",
      "/anaconda3/lib/python3.6/site-packages/ipykernel_launcher.py:1: SettingWithCopyWarning: \n",
      "A value is trying to be set on a copy of a slice from a DataFrame\n",
      "\n",
      "See the caveats in the documentation: http://pandas.pydata.org/pandas-docs/stable/indexing.html#indexing-view-versus-copy\n",
      "  \"\"\"Entry point for launching an IPython kernel.\n"
     ]
    }
   ],
   "source": [
    "ts = days_for_ts(df_2017, cdf)"
   ]
  },
  {
   "cell_type": "code",
   "execution_count": 46,
   "metadata": {},
   "outputs": [
    {
     "data": {
      "text/plain": [
       "88376     90\n",
       "88463     90\n",
       "88689     90\n",
       "89337     90\n",
       "90916     87\n",
       "91124     87\n",
       "91594     87\n",
       "92735     87\n",
       "92738     87\n",
       "93640     87\n",
       "95826     84\n",
       "96284     84\n",
       "96872     84\n",
       "96873     84\n",
       "96919     84\n",
       "96966     84\n",
       "97256     84\n",
       "97279     84\n",
       "97282     84\n",
       "97823     84\n",
       "98408     84\n",
       "98853     84\n",
       "100449    81\n",
       "101251    81\n",
       "101335    81\n",
       "101841    81\n",
       "102479    81\n",
       "103554    78\n",
       "104887    75\n",
       "105047    75\n",
       "          ..\n",
       "380323     5\n",
       "380800     4\n",
       "380839     4\n",
       "380868     4\n",
       "380889     4\n",
       "381066     4\n",
       "381068     4\n",
       "381555     4\n",
       "381677     4\n",
       "381732     4\n",
       "381866     4\n",
       "381867     4\n",
       "381996     4\n",
       "381997     4\n",
       "382154     4\n",
       "382856     3\n",
       "383810     3\n",
       "384143     3\n",
       "386679     1\n",
       "386748     1\n",
       "386749     1\n",
       "386857     1\n",
       "387071     1\n",
       "387072     1\n",
       "387969     1\n",
       "387985     1\n",
       "388248     1\n",
       "388396     1\n",
       "389006     1\n",
       "389555     1\n",
       "Name: days, Length: 488, dtype: int64"
      ]
     },
     "execution_count": 46,
     "metadata": {},
     "output_type": "execute_result"
    }
   ],
   "source": [
    "ts['days'][ts.end_station_id == 246]"
   ]
  },
  {
   "cell_type": "code",
   "execution_count": 65,
   "metadata": {},
   "outputs": [],
   "source": [
    "def plt_stn(df, station_id):\n",
    "    tsplt = df['days'][df.end_station_id == station_id].value_counts().reset_index()\n",
    "    tsplt = np.array(tsplt)\n",
    "    tsplt = tsplt[np.argsort(tsplt[:,0])]\n",
    "    plt.plot(tsplt[:,0], tsplt[:,1])\n"
   ]
  },
  {
   "cell_type": "code",
   "execution_count": 67,
   "metadata": {},
   "outputs": [
    {
     "data": {
      "image/png": "[encoded data removed]",
      "text/plain": [
       "<Figure size 432x288 with 1 Axes>"
      ]
     },
     "metadata": {
      "needs_background": "light"
     },
     "output_type": "display_data"
    }
   ],
   "source": [
    "plt_stn(ts, 248)"
   ]
  },
  {
   "cell_type": "code",
   "execution_count": 54,
   "metadata": {},
   "outputs": [],
   "source": [
    "ok = ts['days'][ts.end_station_id == 240].value_counts().reset_index()"
   ]
  },
  {
   "cell_type": "code",
   "execution_count": 61,
   "metadata": {},
   "outputs": [
    {
     "data": {
      "text/plain": [
       "array([[12, 27],\n",
       "       [15, 20],\n",
       "       [ 8, 19],\n",
       "       [20, 18],\n",
       "       [36, 18],\n",
       "       [27, 17],\n",
       "       [28, 16],\n",
       "       [ 6, 16],\n",
       "       [26, 15],\n",
       "       [42, 14],\n",
       "       [ 9, 14],\n",
       "       [ 2, 14],\n",
       "       [22, 14],\n",
       "       [18, 14],\n",
       "       [16, 14],\n",
       "       [60, 14],\n",
       "       [24, 13],\n",
       "       [30, 13],\n",
       "       [62, 12],\n",
       "       [10, 12],\n",
       "       [56, 11],\n",
       "       [46, 10],\n",
       "       [57, 10],\n",
       "       [ 3, 10],\n",
       "       [54, 10],\n",
       "       [ 5, 10],\n",
       "       [17, 10],\n",
       "       [63, 10],\n",
       "       [40,  9],\n",
       "       [23,  9],\n",
       "       [14,  9],\n",
       "       [48,  9],\n",
       "       [ 4,  7],\n",
       "       [21,  7],\n",
       "       [11,  7],\n",
       "       [90,  7],\n",
       "       [32,  7],\n",
       "       [58,  7],\n",
       "       [87,  6],\n",
       "       [33,  6],\n",
       "       [19,  6],\n",
       "       [34,  6],\n",
       "       [38,  6],\n",
       "       [81,  6],\n",
       "       [44,  6],\n",
       "       [50,  5],\n",
       "       [52,  5],\n",
       "       [72,  5],\n",
       "       [ 7,  5],\n",
       "       [ 1,  5],\n",
       "       [13,  5],\n",
       "       [75,  4],\n",
       "       [29,  3],\n",
       "       [39,  3],\n",
       "       [25,  3],\n",
       "       [51,  2],\n",
       "       [66,  2],\n",
       "       [78,  2],\n",
       "       [84,  2],\n",
       "       [45,  1]])"
      ]
     },
     "execution_count": 61,
     "metadata": {},
     "output_type": "execute_result"
    }
   ],
   "source": [
    "ok = np.array(ok)\n",
    "ok"
   ]
  },
  {
   "cell_type": "code",
   "execution_count": 62,
   "metadata": {},
   "outputs": [
    {
     "data": {
      "text/plain": [
       "array([[ 1,  5],\n",
       "       [ 2, 14],\n",
       "       [ 3, 10],\n",
       "       [ 4,  7],\n",
       "       [ 5, 10],\n",
       "       [ 6, 16],\n",
       "       [ 7,  5],\n",
       "       [ 8, 19],\n",
       "       [ 9, 14],\n",
       "       [10, 12],\n",
       "       [11,  7],\n",
       "       [12, 27],\n",
       "       [13,  5],\n",
       "       [14,  9],\n",
       "       [15, 20],\n",
       "       [16, 14],\n",
       "       [17, 10],\n",
       "       [18, 14],\n",
       "       [19,  6],\n",
       "       [20, 18],\n",
       "       [21,  7],\n",
       "       [22, 14],\n",
       "       [23,  9],\n",
       "       [24, 13],\n",
       "       [25,  3],\n",
       "       [26, 15],\n",
       "       [27, 17],\n",
       "       [28, 16],\n",
       "       [29,  3],\n",
       "       [30, 13],\n",
       "       [32,  7],\n",
       "       [33,  6],\n",
       "       [34,  6],\n",
       "       [36, 18],\n",
       "       [38,  6],\n",
       "       [39,  3],\n",
       "       [40,  9],\n",
       "       [42, 14],\n",
       "       [44,  6],\n",
       "       [45,  1],\n",
       "       [46, 10],\n",
       "       [48,  9],\n",
       "       [50,  5],\n",
       "       [51,  2],\n",
       "       [52,  5],\n",
       "       [54, 10],\n",
       "       [56, 11],\n",
       "       [57, 10],\n",
       "       [58,  7],\n",
       "       [60, 14],\n",
       "       [62, 12],\n",
       "       [63, 10],\n",
       "       [66,  2],\n",
       "       [72,  5],\n",
       "       [75,  4],\n",
       "       [78,  2],\n",
       "       [81,  6],\n",
       "       [84,  2],\n",
       "       [87,  6],\n",
       "       [90,  7]])"
      ]
     },
     "execution_count": 62,
     "metadata": {},
     "output_type": "execute_result"
    }
   ],
   "source": [
    "ok[np.argsort(ok[:,0])]"
   ]
  },
  {
   "cell_type": "code",
   "execution_count": null,
   "metadata": {},
   "outputs": [],
   "source": []
  }
 ],
 "metadata": {
  "kernelspec": {
   "display_name": "Python 3",
   "language": "python",
   "name": "python3"
  },
  "language_info": {
   "codemirror_mode": {
    "name": "ipython",
    "version": 3
   },
   "file_extension": ".py",
   "mimetype": "text/x-python",
   "name": "python",
   "nbconvert_exporter": "python",
   "pygments_lexer": "ipython3",
   "version": "3.6.8"
  }
 },
 "nbformat": 4,
 "nbformat_minor": 2
}
