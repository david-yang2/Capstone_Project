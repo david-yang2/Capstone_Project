{
 "cells": [
  {
   "cell_type": "code",
   "execution_count": 9,
   "metadata": {},
   "outputs": [],
   "source": [
    "import pandas as pd\n",
    "import numpy as np\n"
   ]
  },
  {
   "cell_type": "code",
   "execution_count": 10,
   "metadata": {},
   "outputs": [],
   "source": []
  },
  {
   "cell_type": "code",
   "execution_count": null,
   "metadata": {},
   "outputs": [],
   "source": []
  },
  {
   "cell_type": "code",
   "execution_count": 52,
   "metadata": {},
   "outputs": [],
   "source": [
    "def model_city(df, city = 1):\n",
    "    '''\n",
    "    Breaks the dataset into 3 cities\n",
    "    SF = 1\n",
    "    OAK = 2\n",
    "    SJ = 3\n",
    "\n",
    "    INPUT: Dataframe\n",
    "           Number for city to be modeled\n",
    "    OUTPUT: returns a portion of the original dataframe\n",
    "    ''' \n",
    "    if city == 1:\n",
    "        return df[(df.end_station_latitude > 37.697799) & (df.end_station_longitude <-122.330676)]\n",
    "    elif city == 2:\n",
    "        return df[(df.end_station_latitude > 37.697799) & (df.end_station_longitude >-122.330676)]\n",
    "    elif city == 3:\n",
    "        return df[df.end_station_latitude < 37.697799]\n",
    "    \n",
    "def unique_stations(df):\n",
    "    #names of each start station and the number of trips \n",
    "    lst_start_station_name = df.start_station_name.value_counts()\n",
    "    #ids of each start station and the number of trips \n",
    "    lst_start_station_id = df.start_station_id.value_counts()\n",
    "    num_unique_stations = lst_start_station_id.unique().size\n",
    "    unique_start_sations = sf.start_station_id.unique()\n",
    "    unique_end_stations = sf.end_station_id.unique()\n",
    "    return unique_start_sations\n",
    "\n",
    "def new_stations(old_statn, new_statn):\n",
    "    return set(new_statn) - set(old_statn)\n",
    "\n",
    "def plot_new_station()"
   ]
  },
  {
   "cell_type": "code",
   "execution_count": 12,
   "metadata": {},
   "outputs": [],
   "source": []
  },
  {
   "cell_type": "code",
   "execution_count": 49,
   "metadata": {},
   "outputs": [],
   "source": [
    "df = pd.read_csv('data/201803-fordgobike-tripdata.csv')\n",
    "sf = model_city(df)\n",
    "mar_18= unique_stations(sf)"
   ]
  },
  {
   "cell_type": "code",
   "execution_count": null,
   "metadata": {},
   "outputs": [],
   "source": []
  },
  {
   "cell_type": "code",
   "execution_count": 50,
   "metadata": {},
   "outputs": [],
   "source": [
    "df = pd.read_csv('data/201804-fordgobike-tripdata.csv')\n",
    "sf = model_city(df)\n",
    "apr_18= unique_stations(sf)\n"
   ]
  },
  {
   "cell_type": "code",
   "execution_count": null,
   "metadata": {},
   "outputs": [],
   "source": []
  },
  {
   "cell_type": "code",
   "execution_count": 53,
   "metadata": {
    "scrolled": true
   },
   "outputs": [
    {
     "data": {
      "text/plain": [
       "{7, 50, 230, 231, 239, 344, 345}"
      ]
     },
     "execution_count": 53,
     "metadata": {},
     "output_type": "execute_result"
    }
   ],
   "source": [
    "new_stations(mar_18, apr_18)"
   ]
  },
  {
   "cell_type": "code",
   "execution_count": null,
   "metadata": {},
   "outputs": [],
   "source": []
  },
  {
   "cell_type": "code",
   "execution_count": null,
   "metadata": {},
   "outputs": [],
   "source": []
  },
  {
   "cell_type": "code",
   "execution_count": null,
   "metadata": {},
   "outputs": [],
   "source": []
  },
  {
   "cell_type": "code",
   "execution_count": null,
   "metadata": {},
   "outputs": [],
   "source": []
  },
  {
   "cell_type": "code",
   "execution_count": null,
   "metadata": {},
   "outputs": [],
   "source": []
  },
  {
   "cell_type": "code",
   "execution_count": null,
   "metadata": {},
   "outputs": [],
   "source": []
  },
  {
   "cell_type": "code",
   "execution_count": null,
   "metadata": {},
   "outputs": [],
   "source": []
  },
  {
   "cell_type": "code",
   "execution_count": null,
   "metadata": {},
   "outputs": [],
   "source": []
  },
  {
   "cell_type": "code",
   "execution_count": null,
   "metadata": {},
   "outputs": [],
   "source": []
  },
  {
   "cell_type": "code",
   "execution_count": null,
   "metadata": {},
   "outputs": [],
   "source": [
    "\n"
   ]
  }
 ],
 "metadata": {
  "kernelspec": {
   "display_name": "Python 3",
   "language": "python",
   "name": "python3"
  },
  "language_info": {
   "codemirror_mode": {
    "name": "ipython",
    "version": 3
   },
   "file_extension": ".py",
   "mimetype": "text/x-python",
   "name": "python",
   "nbconvert_exporter": "python",
   "pygments_lexer": "ipython3",
   "version": "3.6.8"
  }
 },
 "nbformat": 4,
 "nbformat_minor": 2
}
